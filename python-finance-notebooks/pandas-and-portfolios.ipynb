{
 "cells": [
  {
   "cell_type": "code",
   "execution_count": 1,
   "metadata": {},
   "outputs": [],
   "source": [
    "import pandas as pd\n",
    "import numpy as np\n",
    "import matplotlib.pyplot as plt\n",
    "%matplotlib inline\n",
    "\n",
    "import datetime as dt\n",
    "import os"
   ]
  },
  {
   "cell_type": "markdown",
   "metadata": {},
   "source": [
    "# Setup tech chips"
   ]
  },
  {
   "cell_type": "code",
   "execution_count": 2,
   "metadata": {},
   "outputs": [],
   "source": [
    "os.chdir(\"D:\\\\Trading\\\\Data\\\\quantmod\\\\US\\\\\")\n",
    "\n",
    "symbol_list = ['NFLX','AMZN','NVDA','ADBE','AAPL']\n",
    "\n",
    "df_NFLX = pd.read_csv('adj_NFLX.csv',index_col='date',parse_dates=True)\n",
    "df_AMZN = pd.read_csv('adj_AMZN.csv',index_col='date',parse_dates=True)\n",
    "df_NVDA = pd.read_csv('adj_NVDA.csv',index_col='date',parse_dates=True)\n",
    "df_ADBE = pd.read_csv('adj_ADBE.csv',index_col='date',parse_dates=True)\n",
    "df_AAPL = pd.read_csv('adj_AAPL.csv',index_col='date',parse_dates=True)"
   ]
  },
  {
   "cell_type": "code",
   "execution_count": 3,
   "metadata": {},
   "outputs": [],
   "source": [
    "df_NFLX = df_NFLX.loc[dt.date(year=2010,month=1,day=1):dt.date(year=2019,month=1,day=1)]\n",
    "df_AMZN = df_AMZN.loc[dt.date(year=2010,month=1,day=1):dt.date(year=2019,month=1,day=1)]\n",
    "df_NVDA = df_NVDA.loc[dt.date(year=2010,month=1,day=1):dt.date(year=2019,month=1,day=1)]\n",
    "df_ADBE = df_ADBE.loc[dt.date(year=2010,month=1,day=1):dt.date(year=2019,month=1,day=1)]\n",
    "df_AAPL = df_AAPL.loc[dt.date(year=2010,month=1,day=1):dt.date(year=2019,month=1,day=1)]"
   ]
  },
  {
   "cell_type": "markdown",
   "metadata": {},
   "source": [
    "## zip()"
   ]
  },
  {
   "cell_type": "code",
   "execution_count": 4,
   "metadata": {},
   "outputs": [
    {
     "data": {
      "text/plain": [
       "[(0, 6, 11), (1, 7, 12), (2, 8, 13), (3, 9, 14)]"
      ]
     },
     "execution_count": 4,
     "metadata": {},
     "output_type": "execute_result"
    }
   ],
   "source": [
    "a = range(5)\n",
    "b = range(6,10)\n",
    "c = range(11,15)\n",
    "zip_abc = zip(a,b,c)\n",
    "list(zip_abc)"
   ]
  },
  {
   "cell_type": "code",
   "execution_count": 5,
   "metadata": {},
   "outputs": [],
   "source": [
    "chip_list = [df_NFLX,df_AMZN,df_NVDA,df_ADBE,df_AAPL]\n",
    "\n",
    "for df,name in zip(chip_list,symbol_list):\n",
    "    df[str(name+'.Normed_Close')] = df.iloc[:,3]/df.iloc[0,3]"
   ]
  },
  {
   "cell_type": "code",
   "execution_count": 6,
   "metadata": {},
   "outputs": [
    {
     "data": {
      "text/html": [
       "<div>\n",
       "<style>\n",
       "    .dataframe thead tr:only-child th {\n",
       "        text-align: right;\n",
       "    }\n",
       "\n",
       "    .dataframe thead th {\n",
       "        text-align: left;\n",
       "    }\n",
       "\n",
       "    .dataframe tbody tr th {\n",
       "        vertical-align: top;\n",
       "    }\n",
       "</style>\n",
       "<table border=\"1\" class=\"dataframe\">\n",
       "  <thead>\n",
       "    <tr style=\"text-align: right;\">\n",
       "      <th></th>\n",
       "      <th>NFLX.Open</th>\n",
       "      <th>NFLX.High</th>\n",
       "      <th>NFLX.Low</th>\n",
       "      <th>NFLX.Close</th>\n",
       "      <th>NFLX.Volume</th>\n",
       "      <th>NFLX.Normed_Close</th>\n",
       "    </tr>\n",
       "    <tr>\n",
       "      <th>date</th>\n",
       "      <th></th>\n",
       "      <th></th>\n",
       "      <th></th>\n",
       "      <th></th>\n",
       "      <th></th>\n",
       "      <th></th>\n",
       "    </tr>\n",
       "  </thead>\n",
       "  <tbody>\n",
       "    <tr>\n",
       "      <th>2010-01-04</th>\n",
       "      <td>7.931421</td>\n",
       "      <td>7.961421</td>\n",
       "      <td>7.565707</td>\n",
       "      <td>7.639992</td>\n",
       "      <td>17239617</td>\n",
       "      <td>1.000000</td>\n",
       "    </tr>\n",
       "    <tr>\n",
       "      <th>2010-01-05</th>\n",
       "      <td>7.652849</td>\n",
       "      <td>7.657135</td>\n",
       "      <td>7.258564</td>\n",
       "      <td>7.358564</td>\n",
       "      <td>23753123</td>\n",
       "      <td>0.963164</td>\n",
       "    </tr>\n",
       "    <tr>\n",
       "      <th>2010-01-06</th>\n",
       "      <td>7.361421</td>\n",
       "      <td>7.672849</td>\n",
       "      <td>7.197136</td>\n",
       "      <td>7.617135</td>\n",
       "      <td>23290423</td>\n",
       "      <td>0.997008</td>\n",
       "    </tr>\n",
       "    <tr>\n",
       "      <th>2010-01-07</th>\n",
       "      <td>7.731421</td>\n",
       "      <td>7.757135</td>\n",
       "      <td>7.462935</td>\n",
       "      <td>7.485707</td>\n",
       "      <td>9955409</td>\n",
       "      <td>0.979806</td>\n",
       "    </tr>\n",
       "    <tr>\n",
       "      <th>2010-01-08</th>\n",
       "      <td>7.498564</td>\n",
       "      <td>7.742849</td>\n",
       "      <td>7.465707</td>\n",
       "      <td>7.614278</td>\n",
       "      <td>8180908</td>\n",
       "      <td>0.996634</td>\n",
       "    </tr>\n",
       "  </tbody>\n",
       "</table>\n",
       "</div>"
      ],
      "text/plain": [
       "            NFLX.Open  NFLX.High  NFLX.Low  NFLX.Close  NFLX.Volume  \\\n",
       "date                                                                  \n",
       "2010-01-04   7.931421   7.961421  7.565707    7.639992     17239617   \n",
       "2010-01-05   7.652849   7.657135  7.258564    7.358564     23753123   \n",
       "2010-01-06   7.361421   7.672849  7.197136    7.617135     23290423   \n",
       "2010-01-07   7.731421   7.757135  7.462935    7.485707      9955409   \n",
       "2010-01-08   7.498564   7.742849  7.465707    7.614278      8180908   \n",
       "\n",
       "            NFLX.Normed_Close  \n",
       "date                           \n",
       "2010-01-04           1.000000  \n",
       "2010-01-05           0.963164  \n",
       "2010-01-06           0.997008  \n",
       "2010-01-07           0.979806  \n",
       "2010-01-08           0.996634  "
      ]
     },
     "execution_count": 6,
     "metadata": {},
     "output_type": "execute_result"
    }
   ],
   "source": [
    "df_NFLX.head()"
   ]
  },
  {
   "cell_type": "markdown",
   "metadata": {},
   "source": [
    "# Allocation ratio "
   ]
  },
  {
   "cell_type": "code",
   "execution_count": 7,
   "metadata": {},
   "outputs": [],
   "source": [
    "allo_NFLX = 0.2\n",
    "allo_AMZN = 0.2\n",
    "allo_NVDA = 0.2\n",
    "allo_ADBE = 0.2\n",
    "allo_AAPL = 1 - allo_NFLX - allo_AMZN - allo_NVDA - allo_ADBE\n",
    "\n",
    "allo_vect = [allo_NFLX,allo_AMZN,allo_NVDA,allo_ADBE,allo_AAPL]"
   ]
  },
  {
   "cell_type": "code",
   "execution_count": 8,
   "metadata": {},
   "outputs": [
    {
     "data": {
      "text/html": [
       "<div>\n",
       "<style>\n",
       "    .dataframe thead tr:only-child th {\n",
       "        text-align: right;\n",
       "    }\n",
       "\n",
       "    .dataframe thead th {\n",
       "        text-align: left;\n",
       "    }\n",
       "\n",
       "    .dataframe tbody tr th {\n",
       "        vertical-align: top;\n",
       "    }\n",
       "</style>\n",
       "<table border=\"1\" class=\"dataframe\">\n",
       "  <thead>\n",
       "    <tr style=\"text-align: right;\">\n",
       "      <th></th>\n",
       "      <th>NFLX.Open</th>\n",
       "      <th>NFLX.High</th>\n",
       "      <th>NFLX.Low</th>\n",
       "      <th>NFLX.Close</th>\n",
       "      <th>NFLX.Volume</th>\n",
       "      <th>NFLX.Normed_Close</th>\n",
       "      <th>NFLX.Position_Value</th>\n",
       "    </tr>\n",
       "    <tr>\n",
       "      <th>date</th>\n",
       "      <th></th>\n",
       "      <th></th>\n",
       "      <th></th>\n",
       "      <th></th>\n",
       "      <th></th>\n",
       "      <th></th>\n",
       "      <th></th>\n",
       "    </tr>\n",
       "  </thead>\n",
       "  <tbody>\n",
       "    <tr>\n",
       "      <th>2010-01-04</th>\n",
       "      <td>7.931421</td>\n",
       "      <td>7.961421</td>\n",
       "      <td>7.565707</td>\n",
       "      <td>7.639992</td>\n",
       "      <td>17239617</td>\n",
       "      <td>1.000000</td>\n",
       "      <td>2000.000000</td>\n",
       "    </tr>\n",
       "    <tr>\n",
       "      <th>2010-01-05</th>\n",
       "      <td>7.652849</td>\n",
       "      <td>7.657135</td>\n",
       "      <td>7.258564</td>\n",
       "      <td>7.358564</td>\n",
       "      <td>23753123</td>\n",
       "      <td>0.963164</td>\n",
       "      <td>1926.327599</td>\n",
       "    </tr>\n",
       "    <tr>\n",
       "      <th>2010-01-06</th>\n",
       "      <td>7.361421</td>\n",
       "      <td>7.672849</td>\n",
       "      <td>7.197136</td>\n",
       "      <td>7.617135</td>\n",
       "      <td>23290423</td>\n",
       "      <td>0.997008</td>\n",
       "      <td>1994.016455</td>\n",
       "    </tr>\n",
       "    <tr>\n",
       "      <th>2010-01-07</th>\n",
       "      <td>7.731421</td>\n",
       "      <td>7.757135</td>\n",
       "      <td>7.462935</td>\n",
       "      <td>7.485707</td>\n",
       "      <td>9955409</td>\n",
       "      <td>0.979806</td>\n",
       "      <td>1959.611070</td>\n",
       "    </tr>\n",
       "    <tr>\n",
       "      <th>2010-01-08</th>\n",
       "      <td>7.498564</td>\n",
       "      <td>7.742849</td>\n",
       "      <td>7.465707</td>\n",
       "      <td>7.614278</td>\n",
       "      <td>8180908</td>\n",
       "      <td>0.996634</td>\n",
       "      <td>1993.268512</td>\n",
       "    </tr>\n",
       "  </tbody>\n",
       "</table>\n",
       "</div>"
      ],
      "text/plain": [
       "            NFLX.Open  NFLX.High  NFLX.Low  NFLX.Close  NFLX.Volume  \\\n",
       "date                                                                  \n",
       "2010-01-04   7.931421   7.961421  7.565707    7.639992     17239617   \n",
       "2010-01-05   7.652849   7.657135  7.258564    7.358564     23753123   \n",
       "2010-01-06   7.361421   7.672849  7.197136    7.617135     23290423   \n",
       "2010-01-07   7.731421   7.757135  7.462935    7.485707      9955409   \n",
       "2010-01-08   7.498564   7.742849  7.465707    7.614278      8180908   \n",
       "\n",
       "            NFLX.Normed_Close  NFLX.Position_Value  \n",
       "date                                                \n",
       "2010-01-04           1.000000          2000.000000  \n",
       "2010-01-05           0.963164          1926.327599  \n",
       "2010-01-06           0.997008          1994.016455  \n",
       "2010-01-07           0.979806          1959.611070  \n",
       "2010-01-08           0.996634          1993.268512  "
      ]
     },
     "execution_count": 8,
     "metadata": {},
     "output_type": "execute_result"
    }
   ],
   "source": [
    "# Use zip() to take tuples from the two list\n",
    "\n",
    "for name,df,allo in zip(symbol_list,chip_list,allo_vect):\n",
    "    df[str(name+'.Position_Value')] = 10000 * df[str(name+'.Normed_Close')] * allo\n",
    "    \n",
    "df_NFLX.head()"
   ]
  },
  {
   "cell_type": "code",
   "execution_count": 9,
   "metadata": {},
   "outputs": [
    {
     "data": {
      "text/html": [
       "<div>\n",
       "<style>\n",
       "    .dataframe thead tr:only-child th {\n",
       "        text-align: right;\n",
       "    }\n",
       "\n",
       "    .dataframe thead th {\n",
       "        text-align: left;\n",
       "    }\n",
       "\n",
       "    .dataframe tbody tr th {\n",
       "        vertical-align: top;\n",
       "    }\n",
       "</style>\n",
       "<table border=\"1\" class=\"dataframe\">\n",
       "  <thead>\n",
       "    <tr style=\"text-align: right;\">\n",
       "      <th></th>\n",
       "      <th>NFLX.Open</th>\n",
       "      <th>NFLX.High</th>\n",
       "      <th>NFLX.Low</th>\n",
       "      <th>NFLX.Close</th>\n",
       "      <th>NFLX.Volume</th>\n",
       "      <th>NFLX.Normed_Close</th>\n",
       "      <th>NFLX.Position_Value</th>\n",
       "    </tr>\n",
       "    <tr>\n",
       "      <th>date</th>\n",
       "      <th></th>\n",
       "      <th></th>\n",
       "      <th></th>\n",
       "      <th></th>\n",
       "      <th></th>\n",
       "      <th></th>\n",
       "      <th></th>\n",
       "    </tr>\n",
       "  </thead>\n",
       "  <tbody>\n",
       "    <tr>\n",
       "      <th>2018-07-16</th>\n",
       "      <td>398.98</td>\n",
       "      <td>403.355</td>\n",
       "      <td>391.7500</td>\n",
       "      <td>400.48</td>\n",
       "      <td>22959984</td>\n",
       "      <td>52.418901</td>\n",
       "      <td>104837.801173</td>\n",
       "    </tr>\n",
       "    <tr>\n",
       "      <th>2018-07-17</th>\n",
       "      <td>346.95</td>\n",
       "      <td>385.000</td>\n",
       "      <td>344.0000</td>\n",
       "      <td>379.48</td>\n",
       "      <td>58410362</td>\n",
       "      <td>49.670207</td>\n",
       "      <td>99340.413477</td>\n",
       "    </tr>\n",
       "    <tr>\n",
       "      <th>2018-07-18</th>\n",
       "      <td>381.24</td>\n",
       "      <td>383.130</td>\n",
       "      <td>372.3552</td>\n",
       "      <td>375.13</td>\n",
       "      <td>21746266</td>\n",
       "      <td>49.100834</td>\n",
       "      <td>98201.668882</td>\n",
       "    </tr>\n",
       "    <tr>\n",
       "      <th>2018-07-19</th>\n",
       "      <td>371.06</td>\n",
       "      <td>375.749</td>\n",
       "      <td>363.0000</td>\n",
       "      <td>364.23</td>\n",
       "      <td>16878681</td>\n",
       "      <td>47.674131</td>\n",
       "      <td>95348.262888</td>\n",
       "    </tr>\n",
       "    <tr>\n",
       "      <th>2018-07-20</th>\n",
       "      <td>364.92</td>\n",
       "      <td>370.500</td>\n",
       "      <td>360.1400</td>\n",
       "      <td>361.05</td>\n",
       "      <td>15088358</td>\n",
       "      <td>47.257901</td>\n",
       "      <td>94515.801322</td>\n",
       "    </tr>\n",
       "  </tbody>\n",
       "</table>\n",
       "</div>"
      ],
      "text/plain": [
       "            NFLX.Open  NFLX.High  NFLX.Low  NFLX.Close  NFLX.Volume  \\\n",
       "date                                                                  \n",
       "2018-07-16     398.98    403.355  391.7500      400.48     22959984   \n",
       "2018-07-17     346.95    385.000  344.0000      379.48     58410362   \n",
       "2018-07-18     381.24    383.130  372.3552      375.13     21746266   \n",
       "2018-07-19     371.06    375.749  363.0000      364.23     16878681   \n",
       "2018-07-20     364.92    370.500  360.1400      361.05     15088358   \n",
       "\n",
       "            NFLX.Normed_Close  NFLX.Position_Value  \n",
       "date                                                \n",
       "2018-07-16          52.418901        104837.801173  \n",
       "2018-07-17          49.670207         99340.413477  \n",
       "2018-07-18          49.100834         98201.668882  \n",
       "2018-07-19          47.674131         95348.262888  \n",
       "2018-07-20          47.257901         94515.801322  "
      ]
     },
     "execution_count": 9,
     "metadata": {},
     "output_type": "execute_result"
    }
   ],
   "source": [
    "df_NFLX.tail()"
   ]
  },
  {
   "cell_type": "markdown",
   "metadata": {},
   "source": [
    "# Simple Portfolio"
   ]
  },
  {
   "cell_type": "code",
   "execution_count": 10,
   "metadata": {},
   "outputs": [
    {
     "data": {
      "text/html": [
       "<div>\n",
       "<style>\n",
       "    .dataframe thead tr:only-child th {\n",
       "        text-align: right;\n",
       "    }\n",
       "\n",
       "    .dataframe thead th {\n",
       "        text-align: left;\n",
       "    }\n",
       "\n",
       "    .dataframe tbody tr th {\n",
       "        vertical-align: top;\n",
       "    }\n",
       "</style>\n",
       "<table border=\"1\" class=\"dataframe\">\n",
       "  <thead>\n",
       "    <tr style=\"text-align: right;\">\n",
       "      <th></th>\n",
       "      <th>NFLX.Position_Value</th>\n",
       "      <th>AMZN.Position_Value</th>\n",
       "      <th>NVDA.Position_Value</th>\n",
       "      <th>ADBE.Position_Value</th>\n",
       "      <th>AAPL.Position_Value</th>\n",
       "    </tr>\n",
       "    <tr>\n",
       "      <th>date</th>\n",
       "      <th></th>\n",
       "      <th></th>\n",
       "      <th></th>\n",
       "      <th></th>\n",
       "      <th></th>\n",
       "    </tr>\n",
       "  </thead>\n",
       "  <tbody>\n",
       "    <tr>\n",
       "      <th>2010-01-04</th>\n",
       "      <td>2000.000000</td>\n",
       "      <td>2000.000000</td>\n",
       "      <td>2000.000000</td>\n",
       "      <td>2000.000000</td>\n",
       "      <td>2000.000000</td>\n",
       "    </tr>\n",
       "    <tr>\n",
       "      <th>2010-01-05</th>\n",
       "      <td>1926.327599</td>\n",
       "      <td>2011.799851</td>\n",
       "      <td>2029.204976</td>\n",
       "      <td>2032.892963</td>\n",
       "      <td>2003.457782</td>\n",
       "    </tr>\n",
       "    <tr>\n",
       "      <th>2010-01-06</th>\n",
       "      <td>1994.016455</td>\n",
       "      <td>1975.354742</td>\n",
       "      <td>2042.184965</td>\n",
       "      <td>2028.579132</td>\n",
       "      <td>1971.590113</td>\n",
       "    </tr>\n",
       "    <tr>\n",
       "      <th>2010-01-07</th>\n",
       "      <td>1959.611070</td>\n",
       "      <td>1941.747573</td>\n",
       "      <td>2002.163332</td>\n",
       "      <td>1989.215422</td>\n",
       "      <td>1967.945423</td>\n",
       "    </tr>\n",
       "    <tr>\n",
       "      <th>2010-01-08</th>\n",
       "      <td>1993.268512</td>\n",
       "      <td>1994.324122</td>\n",
       "      <td>2006.489995</td>\n",
       "      <td>1978.430844</td>\n",
       "      <td>1981.028924</td>\n",
       "    </tr>\n",
       "  </tbody>\n",
       "</table>\n",
       "</div>"
      ],
      "text/plain": [
       "            NFLX.Position_Value  AMZN.Position_Value  NVDA.Position_Value  \\\n",
       "date                                                                        \n",
       "2010-01-04          2000.000000          2000.000000          2000.000000   \n",
       "2010-01-05          1926.327599          2011.799851          2029.204976   \n",
       "2010-01-06          1994.016455          1975.354742          2042.184965   \n",
       "2010-01-07          1959.611070          1941.747573          2002.163332   \n",
       "2010-01-08          1993.268512          1994.324122          2006.489995   \n",
       "\n",
       "            ADBE.Position_Value  AAPL.Position_Value  \n",
       "date                                                  \n",
       "2010-01-04          2000.000000          2000.000000  \n",
       "2010-01-05          2032.892963          2003.457782  \n",
       "2010-01-06          2028.579132          1971.590113  \n",
       "2010-01-07          1989.215422          1967.945423  \n",
       "2010-01-08          1978.430844          1981.028924  "
      ]
     },
     "execution_count": 10,
     "metadata": {},
     "output_type": "execute_result"
    }
   ],
   "source": [
    "df_portfo = pd.concat((df[str(name+'.Position_Value')] for name,df in zip(symbol_list,chip_list)), axis = 1)\n",
    "df_portfo.head()"
   ]
  },
  {
   "cell_type": "code",
   "execution_count": 11,
   "metadata": {},
   "outputs": [],
   "source": [
    "df_portfo['Total_Value'] = df_portfo.sum(axis=1)"
   ]
  },
  {
   "cell_type": "code",
   "execution_count": 12,
   "metadata": {},
   "outputs": [
    {
     "data": {
      "text/html": [
       "<div>\n",
       "<style>\n",
       "    .dataframe thead tr:only-child th {\n",
       "        text-align: right;\n",
       "    }\n",
       "\n",
       "    .dataframe thead th {\n",
       "        text-align: left;\n",
       "    }\n",
       "\n",
       "    .dataframe tbody tr th {\n",
       "        vertical-align: top;\n",
       "    }\n",
       "</style>\n",
       "<table border=\"1\" class=\"dataframe\">\n",
       "  <thead>\n",
       "    <tr style=\"text-align: right;\">\n",
       "      <th></th>\n",
       "      <th>NFLX.Position_Value</th>\n",
       "      <th>AMZN.Position_Value</th>\n",
       "      <th>NVDA.Position_Value</th>\n",
       "      <th>ADBE.Position_Value</th>\n",
       "      <th>AAPL.Position_Value</th>\n",
       "      <th>Total_Value</th>\n",
       "    </tr>\n",
       "    <tr>\n",
       "      <th>date</th>\n",
       "      <th></th>\n",
       "      <th></th>\n",
       "      <th></th>\n",
       "      <th></th>\n",
       "      <th></th>\n",
       "      <th></th>\n",
       "    </tr>\n",
       "  </thead>\n",
       "  <tbody>\n",
       "    <tr>\n",
       "      <th>2010-01-04</th>\n",
       "      <td>2000.000000</td>\n",
       "      <td>2000.000000</td>\n",
       "      <td>2000.000000</td>\n",
       "      <td>2000.000000</td>\n",
       "      <td>2000.000000</td>\n",
       "      <td>10000.000000</td>\n",
       "    </tr>\n",
       "    <tr>\n",
       "      <th>2010-01-05</th>\n",
       "      <td>1926.327599</td>\n",
       "      <td>2011.799851</td>\n",
       "      <td>2029.204976</td>\n",
       "      <td>2032.892963</td>\n",
       "      <td>2003.457782</td>\n",
       "      <td>10003.683171</td>\n",
       "    </tr>\n",
       "    <tr>\n",
       "      <th>2010-01-06</th>\n",
       "      <td>1994.016455</td>\n",
       "      <td>1975.354742</td>\n",
       "      <td>2042.184965</td>\n",
       "      <td>2028.579132</td>\n",
       "      <td>1971.590113</td>\n",
       "      <td>10011.725406</td>\n",
       "    </tr>\n",
       "    <tr>\n",
       "      <th>2010-01-07</th>\n",
       "      <td>1959.611070</td>\n",
       "      <td>1941.747573</td>\n",
       "      <td>2002.163332</td>\n",
       "      <td>1989.215422</td>\n",
       "      <td>1967.945423</td>\n",
       "      <td>9860.682819</td>\n",
       "    </tr>\n",
       "    <tr>\n",
       "      <th>2010-01-08</th>\n",
       "      <td>1993.268512</td>\n",
       "      <td>1994.324122</td>\n",
       "      <td>2006.489995</td>\n",
       "      <td>1978.430844</td>\n",
       "      <td>1981.028924</td>\n",
       "      <td>9953.542396</td>\n",
       "    </tr>\n",
       "  </tbody>\n",
       "</table>\n",
       "</div>"
      ],
      "text/plain": [
       "            NFLX.Position_Value  AMZN.Position_Value  NVDA.Position_Value  \\\n",
       "date                                                                        \n",
       "2010-01-04          2000.000000          2000.000000          2000.000000   \n",
       "2010-01-05          1926.327599          2011.799851          2029.204976   \n",
       "2010-01-06          1994.016455          1975.354742          2042.184965   \n",
       "2010-01-07          1959.611070          1941.747573          2002.163332   \n",
       "2010-01-08          1993.268512          1994.324122          2006.489995   \n",
       "\n",
       "            ADBE.Position_Value  AAPL.Position_Value   Total_Value  \n",
       "date                                                                \n",
       "2010-01-04          2000.000000          2000.000000  10000.000000  \n",
       "2010-01-05          2032.892963          2003.457782  10003.683171  \n",
       "2010-01-06          2028.579132          1971.590113  10011.725406  \n",
       "2010-01-07          1989.215422          1967.945423   9860.682819  \n",
       "2010-01-08          1978.430844          1981.028924   9953.542396  "
      ]
     },
     "execution_count": 12,
     "metadata": {},
     "output_type": "execute_result"
    }
   ],
   "source": [
    "df_portfo.head()"
   ]
  },
  {
   "cell_type": "code",
   "execution_count": 13,
   "metadata": {},
   "outputs": [
    {
     "data": {
      "text/html": [
       "<div>\n",
       "<style>\n",
       "    .dataframe thead tr:only-child th {\n",
       "        text-align: right;\n",
       "    }\n",
       "\n",
       "    .dataframe thead th {\n",
       "        text-align: left;\n",
       "    }\n",
       "\n",
       "    .dataframe tbody tr th {\n",
       "        vertical-align: top;\n",
       "    }\n",
       "</style>\n",
       "<table border=\"1\" class=\"dataframe\">\n",
       "  <thead>\n",
       "    <tr style=\"text-align: right;\">\n",
       "      <th></th>\n",
       "      <th>NFLX.Position_Value</th>\n",
       "      <th>AMZN.Position_Value</th>\n",
       "      <th>NVDA.Position_Value</th>\n",
       "      <th>ADBE.Position_Value</th>\n",
       "      <th>AAPL.Position_Value</th>\n",
       "      <th>Total_Value</th>\n",
       "    </tr>\n",
       "    <tr>\n",
       "      <th>date</th>\n",
       "      <th></th>\n",
       "      <th></th>\n",
       "      <th></th>\n",
       "      <th></th>\n",
       "      <th></th>\n",
       "      <th></th>\n",
       "    </tr>\n",
       "  </thead>\n",
       "  <tbody>\n",
       "    <tr>\n",
       "      <th>2018-07-16</th>\n",
       "      <td>104837.801173</td>\n",
       "      <td>27221.657954</td>\n",
       "      <td>28989.326840</td>\n",
       "      <td>13733.081693</td>\n",
       "      <td>14043.050151</td>\n",
       "      <td>188824.917811</td>\n",
       "    </tr>\n",
       "    <tr>\n",
       "      <th>2018-07-17</th>\n",
       "      <td>99340.413477</td>\n",
       "      <td>27541.896938</td>\n",
       "      <td>29630.549259</td>\n",
       "      <td>13928.821785</td>\n",
       "      <td>14082.771732</td>\n",
       "      <td>184524.453190</td>\n",
       "    </tr>\n",
       "    <tr>\n",
       "      <th>2018-07-18</th>\n",
       "      <td>98201.668882</td>\n",
       "      <td>27526.811053</td>\n",
       "      <td>29398.120732</td>\n",
       "      <td>14008.088434</td>\n",
       "      <td>14005.535324</td>\n",
       "      <td>183140.224425</td>\n",
       "    </tr>\n",
       "    <tr>\n",
       "      <th>2018-07-19</th>\n",
       "      <td>95348.262888</td>\n",
       "      <td>27079.462285</td>\n",
       "      <td>29436.664156</td>\n",
       "      <td>13894.850364</td>\n",
       "      <td>14114.401880</td>\n",
       "      <td>179873.641573</td>\n",
       "    </tr>\n",
       "    <tr>\n",
       "      <th>2018-07-20</th>\n",
       "      <td>94515.801322</td>\n",
       "      <td>27090.365945</td>\n",
       "      <td>29303.514146</td>\n",
       "      <td>13887.301159</td>\n",
       "      <td>14082.036147</td>\n",
       "      <td>178879.018719</td>\n",
       "    </tr>\n",
       "  </tbody>\n",
       "</table>\n",
       "</div>"
      ],
      "text/plain": [
       "            NFLX.Position_Value  AMZN.Position_Value  NVDA.Position_Value  \\\n",
       "date                                                                        \n",
       "2018-07-16        104837.801173         27221.657954         28989.326840   \n",
       "2018-07-17         99340.413477         27541.896938         29630.549259   \n",
       "2018-07-18         98201.668882         27526.811053         29398.120732   \n",
       "2018-07-19         95348.262888         27079.462285         29436.664156   \n",
       "2018-07-20         94515.801322         27090.365945         29303.514146   \n",
       "\n",
       "            ADBE.Position_Value  AAPL.Position_Value    Total_Value  \n",
       "date                                                                 \n",
       "2018-07-16         13733.081693         14043.050151  188824.917811  \n",
       "2018-07-17         13928.821785         14082.771732  184524.453190  \n",
       "2018-07-18         14008.088434         14005.535324  183140.224425  \n",
       "2018-07-19         13894.850364         14114.401880  179873.641573  \n",
       "2018-07-20         13887.301159         14082.036147  178879.018719  "
      ]
     },
     "execution_count": 13,
     "metadata": {},
     "output_type": "execute_result"
    }
   ],
   "source": [
    "df_portfo.tail()"
   ]
  },
  {
   "cell_type": "code",
   "execution_count": 14,
   "metadata": {},
   "outputs": [
    {
     "data": {
      "text/plain": [
       "Text(0.5,1,'Portfolio NAV since 2010')"
      ]
     },
     "execution_count": 14,
     "metadata": {},
     "output_type": "execute_result"
    },
    {
     "data": {
      "image/png": "[encoded data removed]",
      "text/plain": [
       "<matplotlib.figure.Figure at 0x1434fa6f438>"
      ]
     },
     "metadata": {},
     "output_type": "display_data"
    }
   ],
   "source": [
    "df_portfo['Total_Value'].plot(figsize=(16,6),logy=True)\n",
    "plt.title('Portfolio NAV since 2010')"
   ]
  },
  {
   "cell_type": "code",
   "execution_count": 15,
   "metadata": {},
   "outputs": [
    {
     "data": {
      "text/plain": [
       "<matplotlib.axes._subplots.AxesSubplot at 0x1434fc82588>"
      ]
     },
     "execution_count": 15,
     "metadata": {},
     "output_type": "execute_result"
    },
    {
     "data": {
      "image/png": "[encoded data removed]",
      "text/plain": [
       "<matplotlib.figure.Figure at 0x1434f86bf60>"
      ]
     },
     "metadata": {},
     "output_type": "display_data"
    }
   ],
   "source": [
    "# df.drop(): Present all columns except the dropped columns\n",
    "\n",
    "df_portfo.drop('Total_Value',axis=1).plot(kind='line',figsize=(16,6))"
   ]
  },
  {
   "cell_type": "markdown",
   "metadata": {},
   "source": [
    "# Individual & Portfolio KPI"
   ]
  },
  {
   "cell_type": "code",
   "execution_count": 16,
   "metadata": {},
   "outputs": [],
   "source": [
    "# Calculate individual symbol daily return\n",
    "# col.pct_change(1) is equivalent to (col / col.shift(1) - 1)\n",
    "\n",
    "mean_chg = []\n",
    "sd_chg = []\n",
    "\n",
    "for name,df in zip(symbol_list,chip_list):\n",
    "    df[str(name+'.Return%')] = df[str(name+'.Normed_Close')].pct_change(1)\n",
    "    mean_chg.append(df[str(name+'.Return%')].mean())\n",
    "    sd_chg.append(df[str(name+'.Return%')].std())"
   ]
  },
  {
   "cell_type": "code",
   "execution_count": 17,
   "metadata": {},
   "outputs": [
    {
     "data": {
      "text/html": [
       "<div>\n",
       "<style>\n",
       "    .dataframe thead tr:only-child th {\n",
       "        text-align: right;\n",
       "    }\n",
       "\n",
       "    .dataframe thead th {\n",
       "        text-align: left;\n",
       "    }\n",
       "\n",
       "    .dataframe tbody tr th {\n",
       "        vertical-align: top;\n",
       "    }\n",
       "</style>\n",
       "<table border=\"1\" class=\"dataframe\">\n",
       "  <thead>\n",
       "    <tr style=\"text-align: right;\">\n",
       "      <th></th>\n",
       "      <th>NFLX.Open</th>\n",
       "      <th>NFLX.High</th>\n",
       "      <th>NFLX.Low</th>\n",
       "      <th>NFLX.Close</th>\n",
       "      <th>NFLX.Volume</th>\n",
       "      <th>NFLX.Normed_Close</th>\n",
       "      <th>NFLX.Position_Value</th>\n",
       "      <th>NFLX.Return%</th>\n",
       "    </tr>\n",
       "    <tr>\n",
       "      <th>date</th>\n",
       "      <th></th>\n",
       "      <th></th>\n",
       "      <th></th>\n",
       "      <th></th>\n",
       "      <th></th>\n",
       "      <th></th>\n",
       "      <th></th>\n",
       "      <th></th>\n",
       "    </tr>\n",
       "  </thead>\n",
       "  <tbody>\n",
       "    <tr>\n",
       "      <th>2018-07-16</th>\n",
       "      <td>398.98</td>\n",
       "      <td>403.355</td>\n",
       "      <td>391.7500</td>\n",
       "      <td>400.48</td>\n",
       "      <td>22959984</td>\n",
       "      <td>52.418901</td>\n",
       "      <td>104837.801173</td>\n",
       "      <td>0.011824</td>\n",
       "    </tr>\n",
       "    <tr>\n",
       "      <th>2018-07-17</th>\n",
       "      <td>346.95</td>\n",
       "      <td>385.000</td>\n",
       "      <td>344.0000</td>\n",
       "      <td>379.48</td>\n",
       "      <td>58410362</td>\n",
       "      <td>49.670207</td>\n",
       "      <td>99340.413477</td>\n",
       "      <td>-0.052437</td>\n",
       "    </tr>\n",
       "    <tr>\n",
       "      <th>2018-07-18</th>\n",
       "      <td>381.24</td>\n",
       "      <td>383.130</td>\n",
       "      <td>372.3552</td>\n",
       "      <td>375.13</td>\n",
       "      <td>21746266</td>\n",
       "      <td>49.100834</td>\n",
       "      <td>98201.668882</td>\n",
       "      <td>-0.011463</td>\n",
       "    </tr>\n",
       "    <tr>\n",
       "      <th>2018-07-19</th>\n",
       "      <td>371.06</td>\n",
       "      <td>375.749</td>\n",
       "      <td>363.0000</td>\n",
       "      <td>364.23</td>\n",
       "      <td>16878681</td>\n",
       "      <td>47.674131</td>\n",
       "      <td>95348.262888</td>\n",
       "      <td>-0.029057</td>\n",
       "    </tr>\n",
       "    <tr>\n",
       "      <th>2018-07-20</th>\n",
       "      <td>364.92</td>\n",
       "      <td>370.500</td>\n",
       "      <td>360.1400</td>\n",
       "      <td>361.05</td>\n",
       "      <td>15088358</td>\n",
       "      <td>47.257901</td>\n",
       "      <td>94515.801322</td>\n",
       "      <td>-0.008731</td>\n",
       "    </tr>\n",
       "  </tbody>\n",
       "</table>\n",
       "</div>"
      ],
      "text/plain": [
       "            NFLX.Open  NFLX.High  NFLX.Low  NFLX.Close  NFLX.Volume  \\\n",
       "date                                                                  \n",
       "2018-07-16     398.98    403.355  391.7500      400.48     22959984   \n",
       "2018-07-17     346.95    385.000  344.0000      379.48     58410362   \n",
       "2018-07-18     381.24    383.130  372.3552      375.13     21746266   \n",
       "2018-07-19     371.06    375.749  363.0000      364.23     16878681   \n",
       "2018-07-20     364.92    370.500  360.1400      361.05     15088358   \n",
       "\n",
       "            NFLX.Normed_Close  NFLX.Position_Value  NFLX.Return%  \n",
       "date                                                              \n",
       "2018-07-16          52.418901        104837.801173      0.011824  \n",
       "2018-07-17          49.670207         99340.413477     -0.052437  \n",
       "2018-07-18          49.100834         98201.668882     -0.011463  \n",
       "2018-07-19          47.674131         95348.262888     -0.029057  \n",
       "2018-07-20          47.257901         94515.801322     -0.008731  "
      ]
     },
     "execution_count": 17,
     "metadata": {},
     "output_type": "execute_result"
    }
   ],
   "source": [
    "df_NFLX.tail()"
   ]
  },
  {
   "cell_type": "code",
   "execution_count": 18,
   "metadata": {},
   "outputs": [
    {
     "data": {
      "text/plain": [
       "date\n",
       "2018-07-16    0.011824\n",
       "2018-07-17   -0.052437\n",
       "2018-07-18   -0.011463\n",
       "2018-07-19   -0.029057\n",
       "2018-07-20   -0.008731\n",
       "Name: NFLX.Normed_Close, dtype: float64"
      ]
     },
     "execution_count": 18,
     "metadata": {},
     "output_type": "execute_result"
    }
   ],
   "source": [
    "test_chg = df_NFLX['NFLX.Normed_Close'] / df_NFLX['NFLX.Normed_Close'].shift(1) - 1\n",
    "test_chg.tail()"
   ]
  },
  {
   "cell_type": "code",
   "execution_count": 19,
   "metadata": {},
   "outputs": [
    {
     "name": "stdout",
     "output_type": "stream",
     "text": [
      "Mean daily return for NFLX: 0.002362\n",
      "Sd of daily return for NFLX: 0.033874\n",
      "Mean daily return for AMZN: 0.001401\n",
      "Sd of daily return for AMZN: 0.019498\n",
      "Mean daily return for NVDA: 0.001549\n",
      "Sd of daily return for NVDA: 0.024761\n",
      "Mean daily return for ADBE: 0.001051\n",
      "Sd of daily return for ADBE: 0.017313\n",
      "Mean daily return for AAPL: 0.001034\n",
      "Sd of daily return for AAPL: 0.015899\n"
     ]
    }
   ],
   "source": [
    "# Average Daily return for each symbol\n",
    "\n",
    "for name,num,sd in zip(symbol_list,mean_chg,sd_chg):\n",
    "    print(\"Mean daily return for %s: %1.6f\"%(name,num))\n",
    "    print(\"Sd of daily return for %s: %1.6f\"%(name,sd))"
   ]
  },
  {
   "cell_type": "code",
   "execution_count": 20,
   "metadata": {},
   "outputs": [
    {
     "data": {
      "text/html": [
       "<div>\n",
       "<style>\n",
       "    .dataframe thead tr:only-child th {\n",
       "        text-align: right;\n",
       "    }\n",
       "\n",
       "    .dataframe thead th {\n",
       "        text-align: left;\n",
       "    }\n",
       "\n",
       "    .dataframe tbody tr th {\n",
       "        vertical-align: top;\n",
       "    }\n",
       "</style>\n",
       "<table border=\"1\" class=\"dataframe\">\n",
       "  <thead>\n",
       "    <tr style=\"text-align: right;\">\n",
       "      <th></th>\n",
       "      <th>NFLX.Position_Value</th>\n",
       "      <th>AMZN.Position_Value</th>\n",
       "      <th>NVDA.Position_Value</th>\n",
       "      <th>ADBE.Position_Value</th>\n",
       "      <th>AAPL.Position_Value</th>\n",
       "      <th>Total_Value</th>\n",
       "      <th>Return%</th>\n",
       "    </tr>\n",
       "    <tr>\n",
       "      <th>date</th>\n",
       "      <th></th>\n",
       "      <th></th>\n",
       "      <th></th>\n",
       "      <th></th>\n",
       "      <th></th>\n",
       "      <th></th>\n",
       "      <th></th>\n",
       "    </tr>\n",
       "  </thead>\n",
       "  <tbody>\n",
       "    <tr>\n",
       "      <th>2018-07-16</th>\n",
       "      <td>104837.801173</td>\n",
       "      <td>27221.657954</td>\n",
       "      <td>28989.326840</td>\n",
       "      <td>13733.081693</td>\n",
       "      <td>14043.050151</td>\n",
       "      <td>188824.917811</td>\n",
       "      <td>0.005291</td>\n",
       "    </tr>\n",
       "    <tr>\n",
       "      <th>2018-07-17</th>\n",
       "      <td>99340.413477</td>\n",
       "      <td>27541.896938</td>\n",
       "      <td>29630.549259</td>\n",
       "      <td>13928.821785</td>\n",
       "      <td>14082.771732</td>\n",
       "      <td>184524.453190</td>\n",
       "      <td>-0.022775</td>\n",
       "    </tr>\n",
       "    <tr>\n",
       "      <th>2018-07-18</th>\n",
       "      <td>98201.668882</td>\n",
       "      <td>27526.811053</td>\n",
       "      <td>29398.120732</td>\n",
       "      <td>14008.088434</td>\n",
       "      <td>14005.535324</td>\n",
       "      <td>183140.224425</td>\n",
       "      <td>-0.007502</td>\n",
       "    </tr>\n",
       "    <tr>\n",
       "      <th>2018-07-19</th>\n",
       "      <td>95348.262888</td>\n",
       "      <td>27079.462285</td>\n",
       "      <td>29436.664156</td>\n",
       "      <td>13894.850364</td>\n",
       "      <td>14114.401880</td>\n",
       "      <td>179873.641573</td>\n",
       "      <td>-0.017837</td>\n",
       "    </tr>\n",
       "    <tr>\n",
       "      <th>2018-07-20</th>\n",
       "      <td>94515.801322</td>\n",
       "      <td>27090.365945</td>\n",
       "      <td>29303.514146</td>\n",
       "      <td>13887.301159</td>\n",
       "      <td>14082.036147</td>\n",
       "      <td>178879.018719</td>\n",
       "      <td>-0.005530</td>\n",
       "    </tr>\n",
       "  </tbody>\n",
       "</table>\n",
       "</div>"
      ],
      "text/plain": [
       "            NFLX.Position_Value  AMZN.Position_Value  NVDA.Position_Value  \\\n",
       "date                                                                        \n",
       "2018-07-16        104837.801173         27221.657954         28989.326840   \n",
       "2018-07-17         99340.413477         27541.896938         29630.549259   \n",
       "2018-07-18         98201.668882         27526.811053         29398.120732   \n",
       "2018-07-19         95348.262888         27079.462285         29436.664156   \n",
       "2018-07-20         94515.801322         27090.365945         29303.514146   \n",
       "\n",
       "            ADBE.Position_Value  AAPL.Position_Value    Total_Value   Return%  \n",
       "date                                                                           \n",
       "2018-07-16         13733.081693         14043.050151  188824.917811  0.005291  \n",
       "2018-07-17         13928.821785         14082.771732  184524.453190 -0.022775  \n",
       "2018-07-18         14008.088434         14005.535324  183140.224425 -0.007502  \n",
       "2018-07-19         13894.850364         14114.401880  179873.641573 -0.017837  \n",
       "2018-07-20         13887.301159         14082.036147  178879.018719 -0.005530  "
      ]
     },
     "execution_count": 20,
     "metadata": {},
     "output_type": "execute_result"
    }
   ],
   "source": [
    "df_portfo['Return%'] = df_portfo['Total_Value'].pct_change(1)\n",
    "df_portfo.tail()"
   ]
  },
  {
   "cell_type": "code",
   "execution_count": 21,
   "metadata": {},
   "outputs": [
    {
     "name": "stdout",
     "output_type": "stream",
     "text": [
      "Mean daily return for Portfolio: 0.001499\n",
      "SD of daily return for Portfolio: 0.017730\n"
     ]
    }
   ],
   "source": [
    "mean_portfo = df_portfo['Return%'].mean()\n",
    "sd_portfo = df_portfo['Return%'].std()\n",
    "\n",
    "print(\"Mean daily return for Portfolio: %1.6f\"%(mean_portfo))\n",
    "print(\"SD of daily return for Portfolio: %1.6f\"%(sd_portfo))"
   ]
  },
  {
   "cell_type": "code",
   "execution_count": 22,
   "metadata": {},
   "outputs": [
    {
     "data": {
      "text/plain": [
       "<matplotlib.axes._subplots.AxesSubplot at 0x1434fe94a58>"
      ]
     },
     "execution_count": 22,
     "metadata": {},
     "output_type": "execute_result"
    },
    {
     "data": {
      "image/png": "[encoded data removed]",
      "text/plain": [
       "<matplotlib.figure.Figure at 0x1434fe94390>"
      ]
     },
     "metadata": {},
     "output_type": "display_data"
    }
   ],
   "source": [
    "for name,df in zip(symbol_list,chip_list):\n",
    "    df[str(name+'.Return%')].plot(kind='kde')\n",
    "    \n",
    "df_portfo['Return%'].plot(kind='kde',figsize=(16,9),legend=True)"
   ]
  },
  {
   "cell_type": "markdown",
   "metadata": {},
   "source": [
    "# Sharpe Ratio"
   ]
  },
  {
   "cell_type": "code",
   "execution_count": 23,
   "metadata": {},
   "outputs": [
    {
     "name": "stdout",
     "output_type": "stream",
     "text": [
      "Annualized Sharpe Ratio of Portfolio: 1.342075\n"
     ]
    }
   ],
   "source": [
    "# Raw Sharpe Ratio\n",
    "raw_sharpe = mean_portfo/sd_portfo\n",
    "\n",
    "# Annualized Sharpe Ratio of portfolio\n",
    "annual_sharpe = (252**0.5) * raw_sharpe\n",
    "print(\"Annualized Sharpe Ratio of Portfolio: %1.6f\"%(annual_sharpe))\n"
   ]
  },
  {
   "cell_type": "code",
   "execution_count": 24,
   "metadata": {},
   "outputs": [
    {
     "name": "stdout",
     "output_type": "stream",
     "text": [
      "Annualized Sharpe Ratio for NFLX: 1.106920\n",
      "Annualized Sharpe Ratio for AMZN: 1.140831\n",
      "Annualized Sharpe Ratio for NVDA: 0.993321\n",
      "Annualized Sharpe Ratio for ADBE: 0.964118\n",
      "Annualized Sharpe Ratio for AAPL: 1.032654\n"
     ]
    }
   ],
   "source": [
    "# Sharpe Ratio for individual symbols\n",
    "\n",
    "for name,num,sd in zip(symbol_list,mean_chg,sd_chg):\n",
    "    symbol_sharpe = (252**0.5) * num / sd\n",
    "    print(\"Annualized Sharpe Ratio for %s: %1.6f\"%(name,symbol_sharpe))"
   ]
  },
  {
   "cell_type": "markdown",
   "metadata": {},
   "source": [
    "# Log-return & Log-Sharpe Ratio"
   ]
  },
  {
   "cell_type": "code",
   "execution_count": 25,
   "metadata": {},
   "outputs": [],
   "source": [
    "mean_log = []\n",
    "sd_log = []\n",
    "\n",
    "for name,df in zip(symbol_list,chip_list):\n",
    "    df[str(name+'.Log-return%')] = np.log(df[str(name+'.Normed_Close')]/df[str(name+'.Normed_Close')].shift(1))\n",
    "    mean_log.append(df[str(name+'.Log-return%')].mean())\n",
    "    sd_log.append(df[str(name+'.Log-return%')].std())"
   ]
  },
  {
   "cell_type": "code",
   "execution_count": 26,
   "metadata": {},
   "outputs": [
    {
     "data": {
      "text/plain": [
       "[0.0017924778473822661,\n",
       " 0.0012115439255817053,\n",
       " 0.0012480521919990774,\n",
       " 0.0009008961675240083,\n",
       " 0.0009073699546366501]"
      ]
     },
     "execution_count": 26,
     "metadata": {},
     "output_type": "execute_result"
    }
   ],
   "source": [
    "mean_log"
   ]
  },
  {
   "cell_type": "code",
   "execution_count": 27,
   "metadata": {},
   "outputs": [
    {
     "name": "stdout",
     "output_type": "stream",
     "text": [
      "Mean log-return for NFLX: 0.001792\n",
      "Sd of log-return for NFLX: 0.033697\n",
      "Mean log-return for AMZN: 0.001212\n",
      "Sd of log-return for AMZN: 0.019418\n",
      "Mean log-return for NVDA: 0.001248\n",
      "Sd of log-return for NVDA: 0.024414\n",
      "Mean log-return for ADBE: 0.000901\n",
      "Sd of log-return for ADBE: 0.017347\n",
      "Mean log-return for AAPL: 0.000907\n",
      "Sd of log-return for AAPL: 0.015912\n"
     ]
    }
   ],
   "source": [
    "for name,num,sd in zip(symbol_list,mean_log,sd_log):\n",
    "    print(\"Mean log-return for %s: %1.6f\"%(name,num))\n",
    "    print(\"Sd of log-return for %s: %1.6f\"%(name,sd))"
   ]
  },
  {
   "cell_type": "code",
   "execution_count": 28,
   "metadata": {},
   "outputs": [
    {
     "data": {
      "text/html": [
       "<div>\n",
       "<style>\n",
       "    .dataframe thead tr:only-child th {\n",
       "        text-align: right;\n",
       "    }\n",
       "\n",
       "    .dataframe thead th {\n",
       "        text-align: left;\n",
       "    }\n",
       "\n",
       "    .dataframe tbody tr th {\n",
       "        vertical-align: top;\n",
       "    }\n",
       "</style>\n",
       "<table border=\"1\" class=\"dataframe\">\n",
       "  <thead>\n",
       "    <tr style=\"text-align: right;\">\n",
       "      <th></th>\n",
       "      <th>NFLX.Position_Value</th>\n",
       "      <th>AMZN.Position_Value</th>\n",
       "      <th>NVDA.Position_Value</th>\n",
       "      <th>ADBE.Position_Value</th>\n",
       "      <th>AAPL.Position_Value</th>\n",
       "      <th>Total_Value</th>\n",
       "      <th>Return%</th>\n",
       "      <th>Log-return%</th>\n",
       "    </tr>\n",
       "    <tr>\n",
       "      <th>date</th>\n",
       "      <th></th>\n",
       "      <th></th>\n",
       "      <th></th>\n",
       "      <th></th>\n",
       "      <th></th>\n",
       "      <th></th>\n",
       "      <th></th>\n",
       "      <th></th>\n",
       "    </tr>\n",
       "  </thead>\n",
       "  <tbody>\n",
       "    <tr>\n",
       "      <th>2018-07-16</th>\n",
       "      <td>104837.801173</td>\n",
       "      <td>27221.657954</td>\n",
       "      <td>28989.326840</td>\n",
       "      <td>13733.081693</td>\n",
       "      <td>14043.050151</td>\n",
       "      <td>188824.917811</td>\n",
       "      <td>0.005291</td>\n",
       "      <td>0.005277</td>\n",
       "    </tr>\n",
       "    <tr>\n",
       "      <th>2018-07-17</th>\n",
       "      <td>99340.413477</td>\n",
       "      <td>27541.896938</td>\n",
       "      <td>29630.549259</td>\n",
       "      <td>13928.821785</td>\n",
       "      <td>14082.771732</td>\n",
       "      <td>184524.453190</td>\n",
       "      <td>-0.022775</td>\n",
       "      <td>-0.023038</td>\n",
       "    </tr>\n",
       "    <tr>\n",
       "      <th>2018-07-18</th>\n",
       "      <td>98201.668882</td>\n",
       "      <td>27526.811053</td>\n",
       "      <td>29398.120732</td>\n",
       "      <td>14008.088434</td>\n",
       "      <td>14005.535324</td>\n",
       "      <td>183140.224425</td>\n",
       "      <td>-0.007502</td>\n",
       "      <td>-0.007530</td>\n",
       "    </tr>\n",
       "    <tr>\n",
       "      <th>2018-07-19</th>\n",
       "      <td>95348.262888</td>\n",
       "      <td>27079.462285</td>\n",
       "      <td>29436.664156</td>\n",
       "      <td>13894.850364</td>\n",
       "      <td>14114.401880</td>\n",
       "      <td>179873.641573</td>\n",
       "      <td>-0.017837</td>\n",
       "      <td>-0.017997</td>\n",
       "    </tr>\n",
       "    <tr>\n",
       "      <th>2018-07-20</th>\n",
       "      <td>94515.801322</td>\n",
       "      <td>27090.365945</td>\n",
       "      <td>29303.514146</td>\n",
       "      <td>13887.301159</td>\n",
       "      <td>14082.036147</td>\n",
       "      <td>178879.018719</td>\n",
       "      <td>-0.005530</td>\n",
       "      <td>-0.005545</td>\n",
       "    </tr>\n",
       "  </tbody>\n",
       "</table>\n",
       "</div>"
      ],
      "text/plain": [
       "            NFLX.Position_Value  AMZN.Position_Value  NVDA.Position_Value  \\\n",
       "date                                                                        \n",
       "2018-07-16        104837.801173         27221.657954         28989.326840   \n",
       "2018-07-17         99340.413477         27541.896938         29630.549259   \n",
       "2018-07-18         98201.668882         27526.811053         29398.120732   \n",
       "2018-07-19         95348.262888         27079.462285         29436.664156   \n",
       "2018-07-20         94515.801322         27090.365945         29303.514146   \n",
       "\n",
       "            ADBE.Position_Value  AAPL.Position_Value    Total_Value   Return%  \\\n",
       "date                                                                            \n",
       "2018-07-16         13733.081693         14043.050151  188824.917811  0.005291   \n",
       "2018-07-17         13928.821785         14082.771732  184524.453190 -0.022775   \n",
       "2018-07-18         14008.088434         14005.535324  183140.224425 -0.007502   \n",
       "2018-07-19         13894.850364         14114.401880  179873.641573 -0.017837   \n",
       "2018-07-20         13887.301159         14082.036147  178879.018719 -0.005530   \n",
       "\n",
       "            Log-return%  \n",
       "date                     \n",
       "2018-07-16     0.005277  \n",
       "2018-07-17    -0.023038  \n",
       "2018-07-18    -0.007530  \n",
       "2018-07-19    -0.017997  \n",
       "2018-07-20    -0.005545  "
      ]
     },
     "execution_count": 28,
     "metadata": {},
     "output_type": "execute_result"
    }
   ],
   "source": [
    "df_portfo['Log-return%'] = np.log(df_portfo['Total_Value']/df_portfo['Total_Value'].shift(1))\n",
    "df_portfo.tail()"
   ]
  },
  {
   "cell_type": "code",
   "execution_count": 29,
   "metadata": {},
   "outputs": [
    {
     "name": "stdout",
     "output_type": "stream",
     "text": [
      "Annualized log-Sharpe Ratio for NFLX: 0.844433\n",
      "Annualized log-Sharpe Ratio for AMZN: 0.990467\n",
      "Annualized log-Sharpe Ratio for NVDA: 0.811525\n",
      "Annualized log-Sharpe Ratio for ADBE: 0.824417\n",
      "Annualized log-Sharpe Ratio for AAPL: 0.905210\n"
     ]
    }
   ],
   "source": [
    "# log-Sharpe Ratio for individual symbols\n",
    "\n",
    "for name,num,sd in zip(symbol_list,mean_log,sd_log):\n",
    "    symbol_log_sharpe = (252**0.5) * num / sd\n",
    "    print(\"Annualized log-Sharpe Ratio for %s: %1.6f\"%(name,symbol_log_sharpe))"
   ]
  },
  {
   "cell_type": "code",
   "execution_count": 30,
   "metadata": {},
   "outputs": [
    {
     "name": "stdout",
     "output_type": "stream",
     "text": [
      "Annualized Sharpe Ratio of Portfolio: 1.199960\n"
     ]
    }
   ],
   "source": [
    "# Annualized log-Sharpe Ratio of portfolio\n",
    "\n",
    "mean_log_portfo = df_portfo['Log-return%'].mean()\n",
    "sd_log_portfo = df_portfo['Log-return%'].std()\n",
    "\n",
    "annual_log_sharpe = (252**0.5) * mean_log_portfo / sd_log_portfo\n",
    "print(\"Annualized Sharpe Ratio of Portfolio: %1.6f\"%(annual_log_sharpe))"
   ]
  },
  {
   "cell_type": "code",
   "execution_count": 31,
   "metadata": {},
   "outputs": [
    {
     "data": {
      "image/png": "[encoded data removed]",
      "text/plain": [
       "<matplotlib.figure.Figure at 0x143518facc0>"
      ]
     },
     "metadata": {},
     "output_type": "display_data"
    }
   ],
   "source": [
    "# Histogram for Portfolio log-return\n",
    "# bins:  number of vertical blocks\n",
    "\n",
    "df_portfo['Log-return%'].hist(bins=100,figsize=(12,6))\n",
    "plt.tight_layout()"
   ]
  },
  {
   "cell_type": "markdown",
   "metadata": {},
   "source": [
    "## Corrleation"
   ]
  },
  {
   "cell_type": "code",
   "execution_count": 32,
   "metadata": {},
   "outputs": [
    {
     "data": {
      "text/html": [
       "<div>\n",
       "<style>\n",
       "    .dataframe thead tr:only-child th {\n",
       "        text-align: right;\n",
       "    }\n",
       "\n",
       "    .dataframe thead th {\n",
       "        text-align: left;\n",
       "    }\n",
       "\n",
       "    .dataframe tbody tr th {\n",
       "        vertical-align: top;\n",
       "    }\n",
       "</style>\n",
       "<table border=\"1\" class=\"dataframe\">\n",
       "  <thead>\n",
       "    <tr style=\"text-align: right;\">\n",
       "      <th></th>\n",
       "      <th>NFLX.Position_Value</th>\n",
       "      <th>AMZN.Position_Value</th>\n",
       "      <th>NVDA.Position_Value</th>\n",
       "      <th>ADBE.Position_Value</th>\n",
       "      <th>AAPL.Position_Value</th>\n",
       "    </tr>\n",
       "    <tr>\n",
       "      <th>date</th>\n",
       "      <th></th>\n",
       "      <th></th>\n",
       "      <th></th>\n",
       "      <th></th>\n",
       "      <th></th>\n",
       "    </tr>\n",
       "  </thead>\n",
       "  <tbody>\n",
       "    <tr>\n",
       "      <th>2018-07-16</th>\n",
       "      <td>104837.801173</td>\n",
       "      <td>27221.657954</td>\n",
       "      <td>28989.326840</td>\n",
       "      <td>13733.081693</td>\n",
       "      <td>14043.050151</td>\n",
       "    </tr>\n",
       "    <tr>\n",
       "      <th>2018-07-17</th>\n",
       "      <td>99340.413477</td>\n",
       "      <td>27541.896938</td>\n",
       "      <td>29630.549259</td>\n",
       "      <td>13928.821785</td>\n",
       "      <td>14082.771732</td>\n",
       "    </tr>\n",
       "    <tr>\n",
       "      <th>2018-07-18</th>\n",
       "      <td>98201.668882</td>\n",
       "      <td>27526.811053</td>\n",
       "      <td>29398.120732</td>\n",
       "      <td>14008.088434</td>\n",
       "      <td>14005.535324</td>\n",
       "    </tr>\n",
       "    <tr>\n",
       "      <th>2018-07-19</th>\n",
       "      <td>95348.262888</td>\n",
       "      <td>27079.462285</td>\n",
       "      <td>29436.664156</td>\n",
       "      <td>13894.850364</td>\n",
       "      <td>14114.401880</td>\n",
       "    </tr>\n",
       "    <tr>\n",
       "      <th>2018-07-20</th>\n",
       "      <td>94515.801322</td>\n",
       "      <td>27090.365945</td>\n",
       "      <td>29303.514146</td>\n",
       "      <td>13887.301159</td>\n",
       "      <td>14082.036147</td>\n",
       "    </tr>\n",
       "  </tbody>\n",
       "</table>\n",
       "</div>"
      ],
      "text/plain": [
       "            NFLX.Position_Value  AMZN.Position_Value  NVDA.Position_Value  \\\n",
       "date                                                                        \n",
       "2018-07-16        104837.801173         27221.657954         28989.326840   \n",
       "2018-07-17         99340.413477         27541.896938         29630.549259   \n",
       "2018-07-18         98201.668882         27526.811053         29398.120732   \n",
       "2018-07-19         95348.262888         27079.462285         29436.664156   \n",
       "2018-07-20         94515.801322         27090.365945         29303.514146   \n",
       "\n",
       "            ADBE.Position_Value  AAPL.Position_Value  \n",
       "date                                                  \n",
       "2018-07-16         13733.081693         14043.050151  \n",
       "2018-07-17         13928.821785         14082.771732  \n",
       "2018-07-18         14008.088434         14005.535324  \n",
       "2018-07-19         13894.850364         14114.401880  \n",
       "2018-07-20         13887.301159         14082.036147  "
      ]
     },
     "execution_count": 32,
     "metadata": {},
     "output_type": "execute_result"
    }
   ],
   "source": [
    "df_concat = df_portfo.iloc[:,0:5]\n",
    "df_concat.tail()"
   ]
  },
  {
   "cell_type": "code",
   "execution_count": 33,
   "metadata": {},
   "outputs": [
    {
     "data": {
      "text/html": [
       "<div>\n",
       "<style>\n",
       "    .dataframe thead tr:only-child th {\n",
       "        text-align: right;\n",
       "    }\n",
       "\n",
       "    .dataframe thead th {\n",
       "        text-align: left;\n",
       "    }\n",
       "\n",
       "    .dataframe tbody tr th {\n",
       "        vertical-align: top;\n",
       "    }\n",
       "</style>\n",
       "<table border=\"1\" class=\"dataframe\">\n",
       "  <thead>\n",
       "    <tr style=\"text-align: right;\">\n",
       "      <th></th>\n",
       "      <th>NFLX.Position_Value</th>\n",
       "      <th>AMZN.Position_Value</th>\n",
       "      <th>NVDA.Position_Value</th>\n",
       "      <th>ADBE.Position_Value</th>\n",
       "      <th>AAPL.Position_Value</th>\n",
       "    </tr>\n",
       "  </thead>\n",
       "  <tbody>\n",
       "    <tr>\n",
       "      <th>NFLX.Position_Value</th>\n",
       "      <td>1.000000</td>\n",
       "      <td>0.974596</td>\n",
       "      <td>0.931542</td>\n",
       "      <td>0.980457</td>\n",
       "      <td>0.886809</td>\n",
       "    </tr>\n",
       "    <tr>\n",
       "      <th>AMZN.Position_Value</th>\n",
       "      <td>0.974596</td>\n",
       "      <td>1.000000</td>\n",
       "      <td>0.944358</td>\n",
       "      <td>0.985172</td>\n",
       "      <td>0.907940</td>\n",
       "    </tr>\n",
       "    <tr>\n",
       "      <th>NVDA.Position_Value</th>\n",
       "      <td>0.931542</td>\n",
       "      <td>0.944358</td>\n",
       "      <td>1.000000</td>\n",
       "      <td>0.944592</td>\n",
       "      <td>0.839422</td>\n",
       "    </tr>\n",
       "    <tr>\n",
       "      <th>ADBE.Position_Value</th>\n",
       "      <td>0.980457</td>\n",
       "      <td>0.985172</td>\n",
       "      <td>0.944592</td>\n",
       "      <td>1.000000</td>\n",
       "      <td>0.926798</td>\n",
       "    </tr>\n",
       "    <tr>\n",
       "      <th>AAPL.Position_Value</th>\n",
       "      <td>0.886809</td>\n",
       "      <td>0.907940</td>\n",
       "      <td>0.839422</td>\n",
       "      <td>0.926798</td>\n",
       "      <td>1.000000</td>\n",
       "    </tr>\n",
       "  </tbody>\n",
       "</table>\n",
       "</div>"
      ],
      "text/plain": [
       "                     NFLX.Position_Value  AMZN.Position_Value  \\\n",
       "NFLX.Position_Value             1.000000             0.974596   \n",
       "AMZN.Position_Value             0.974596             1.000000   \n",
       "NVDA.Position_Value             0.931542             0.944358   \n",
       "ADBE.Position_Value             0.980457             0.985172   \n",
       "AAPL.Position_Value             0.886809             0.907940   \n",
       "\n",
       "                     NVDA.Position_Value  ADBE.Position_Value  \\\n",
       "NFLX.Position_Value             0.931542             0.980457   \n",
       "AMZN.Position_Value             0.944358             0.985172   \n",
       "NVDA.Position_Value             1.000000             0.944592   \n",
       "ADBE.Position_Value             0.944592             1.000000   \n",
       "AAPL.Position_Value             0.839422             0.926798   \n",
       "\n",
       "                     AAPL.Position_Value  \n",
       "NFLX.Position_Value             0.886809  \n",
       "AMZN.Position_Value             0.907940  \n",
       "NVDA.Position_Value             0.839422  \n",
       "ADBE.Position_Value             0.926798  \n",
       "AAPL.Position_Value             1.000000  "
      ]
     },
     "execution_count": 33,
     "metadata": {},
     "output_type": "execute_result"
    }
   ],
   "source": [
    "df_concat.corr()"
   ]
  },
  {
   "cell_type": "code",
   "execution_count": 34,
   "metadata": {},
   "outputs": [
    {
     "data": {
      "text/html": [
       "<div>\n",
       "<style>\n",
       "    .dataframe thead tr:only-child th {\n",
       "        text-align: right;\n",
       "    }\n",
       "\n",
       "    .dataframe thead th {\n",
       "        text-align: left;\n",
       "    }\n",
       "\n",
       "    .dataframe tbody tr th {\n",
       "        vertical-align: top;\n",
       "    }\n",
       "</style>\n",
       "<table border=\"1\" class=\"dataframe\">\n",
       "  <thead>\n",
       "    <tr style=\"text-align: right;\">\n",
       "      <th></th>\n",
       "      <th>NFLX.Return%</th>\n",
       "      <th>AMZN.Return%</th>\n",
       "      <th>NVDA.Return%</th>\n",
       "      <th>ADBE.Return%</th>\n",
       "      <th>AAPL.Return%</th>\n",
       "    </tr>\n",
       "    <tr>\n",
       "      <th>date</th>\n",
       "      <th></th>\n",
       "      <th></th>\n",
       "      <th></th>\n",
       "      <th></th>\n",
       "      <th></th>\n",
       "    </tr>\n",
       "  </thead>\n",
       "  <tbody>\n",
       "    <tr>\n",
       "      <th>2018-07-16</th>\n",
       "      <td>0.011824</td>\n",
       "      <td>0.005218</td>\n",
       "      <td>-0.004492</td>\n",
       "      <td>-0.015120</td>\n",
       "      <td>-0.002195</td>\n",
       "    </tr>\n",
       "    <tr>\n",
       "      <th>2018-07-17</th>\n",
       "      <td>-0.052437</td>\n",
       "      <td>0.011764</td>\n",
       "      <td>0.022119</td>\n",
       "      <td>0.014253</td>\n",
       "      <td>0.002829</td>\n",
       "    </tr>\n",
       "    <tr>\n",
       "      <th>2018-07-18</th>\n",
       "      <td>-0.011463</td>\n",
       "      <td>-0.000548</td>\n",
       "      <td>-0.007844</td>\n",
       "      <td>0.005691</td>\n",
       "      <td>-0.005484</td>\n",
       "    </tr>\n",
       "    <tr>\n",
       "      <th>2018-07-19</th>\n",
       "      <td>-0.029057</td>\n",
       "      <td>-0.016251</td>\n",
       "      <td>0.001311</td>\n",
       "      <td>-0.008084</td>\n",
       "      <td>0.007773</td>\n",
       "    </tr>\n",
       "    <tr>\n",
       "      <th>2018-07-20</th>\n",
       "      <td>-0.008731</td>\n",
       "      <td>0.000403</td>\n",
       "      <td>-0.004523</td>\n",
       "      <td>-0.000543</td>\n",
       "      <td>-0.002293</td>\n",
       "    </tr>\n",
       "  </tbody>\n",
       "</table>\n",
       "</div>"
      ],
      "text/plain": [
       "            NFLX.Return%  AMZN.Return%  NVDA.Return%  ADBE.Return%  \\\n",
       "date                                                                 \n",
       "2018-07-16      0.011824      0.005218     -0.004492     -0.015120   \n",
       "2018-07-17     -0.052437      0.011764      0.022119      0.014253   \n",
       "2018-07-18     -0.011463     -0.000548     -0.007844      0.005691   \n",
       "2018-07-19     -0.029057     -0.016251      0.001311     -0.008084   \n",
       "2018-07-20     -0.008731      0.000403     -0.004523     -0.000543   \n",
       "\n",
       "            AAPL.Return%  \n",
       "date                      \n",
       "2018-07-16     -0.002195  \n",
       "2018-07-17      0.002829  \n",
       "2018-07-18     -0.005484  \n",
       "2018-07-19      0.007773  \n",
       "2018-07-20     -0.002293  "
      ]
     },
     "execution_count": 34,
     "metadata": {},
     "output_type": "execute_result"
    }
   ],
   "source": [
    "# Concat along columns!\n",
    "\n",
    "df_daychg = pd.concat((df[str(name+'.Return%')] for name,df in zip(symbol_list,chip_list)),axis=1)\n",
    "df_daychg.tail()"
   ]
  },
  {
   "cell_type": "code",
   "execution_count": 35,
   "metadata": {},
   "outputs": [
    {
     "data": {
      "text/html": [
       "<div>\n",
       "<style>\n",
       "    .dataframe thead tr:only-child th {\n",
       "        text-align: right;\n",
       "    }\n",
       "\n",
       "    .dataframe thead th {\n",
       "        text-align: left;\n",
       "    }\n",
       "\n",
       "    .dataframe tbody tr th {\n",
       "        vertical-align: top;\n",
       "    }\n",
       "</style>\n",
       "<table border=\"1\" class=\"dataframe\">\n",
       "  <thead>\n",
       "    <tr style=\"text-align: right;\">\n",
       "      <th></th>\n",
       "      <th>NFLX.Return%</th>\n",
       "      <th>AMZN.Return%</th>\n",
       "      <th>NVDA.Return%</th>\n",
       "      <th>ADBE.Return%</th>\n",
       "      <th>AAPL.Return%</th>\n",
       "    </tr>\n",
       "  </thead>\n",
       "  <tbody>\n",
       "    <tr>\n",
       "      <th>NFLX.Return%</th>\n",
       "      <td>1.000000</td>\n",
       "      <td>0.354698</td>\n",
       "      <td>0.237296</td>\n",
       "      <td>0.234031</td>\n",
       "      <td>0.172665</td>\n",
       "    </tr>\n",
       "    <tr>\n",
       "      <th>AMZN.Return%</th>\n",
       "      <td>0.354698</td>\n",
       "      <td>1.000000</td>\n",
       "      <td>0.322629</td>\n",
       "      <td>0.405391</td>\n",
       "      <td>0.345580</td>\n",
       "    </tr>\n",
       "    <tr>\n",
       "      <th>NVDA.Return%</th>\n",
       "      <td>0.237296</td>\n",
       "      <td>0.322629</td>\n",
       "      <td>1.000000</td>\n",
       "      <td>0.406003</td>\n",
       "      <td>0.347904</td>\n",
       "    </tr>\n",
       "    <tr>\n",
       "      <th>ADBE.Return%</th>\n",
       "      <td>0.234031</td>\n",
       "      <td>0.405391</td>\n",
       "      <td>0.406003</td>\n",
       "      <td>1.000000</td>\n",
       "      <td>0.345565</td>\n",
       "    </tr>\n",
       "    <tr>\n",
       "      <th>AAPL.Return%</th>\n",
       "      <td>0.172665</td>\n",
       "      <td>0.345580</td>\n",
       "      <td>0.347904</td>\n",
       "      <td>0.345565</td>\n",
       "      <td>1.000000</td>\n",
       "    </tr>\n",
       "  </tbody>\n",
       "</table>\n",
       "</div>"
      ],
      "text/plain": [
       "              NFLX.Return%  AMZN.Return%  NVDA.Return%  ADBE.Return%  \\\n",
       "NFLX.Return%      1.000000      0.354698      0.237296      0.234031   \n",
       "AMZN.Return%      0.354698      1.000000      0.322629      0.405391   \n",
       "NVDA.Return%      0.237296      0.322629      1.000000      0.406003   \n",
       "ADBE.Return%      0.234031      0.405391      0.406003      1.000000   \n",
       "AAPL.Return%      0.172665      0.345580      0.347904      0.345565   \n",
       "\n",
       "              AAPL.Return%  \n",
       "NFLX.Return%      0.172665  \n",
       "AMZN.Return%      0.345580  \n",
       "NVDA.Return%      0.347904  \n",
       "ADBE.Return%      0.345565  \n",
       "AAPL.Return%      1.000000  "
      ]
     },
     "execution_count": 35,
     "metadata": {},
     "output_type": "execute_result"
    }
   ],
   "source": [
    "df_daychg.corr()"
   ]
  },
  {
   "cell_type": "code",
   "execution_count": 36,
   "metadata": {},
   "outputs": [
    {
     "data": {
      "text/html": [
       "<div>\n",
       "<style>\n",
       "    .dataframe thead tr:only-child th {\n",
       "        text-align: right;\n",
       "    }\n",
       "\n",
       "    .dataframe thead th {\n",
       "        text-align: left;\n",
       "    }\n",
       "\n",
       "    .dataframe tbody tr th {\n",
       "        vertical-align: top;\n",
       "    }\n",
       "</style>\n",
       "<table border=\"1\" class=\"dataframe\">\n",
       "  <thead>\n",
       "    <tr style=\"text-align: right;\">\n",
       "      <th></th>\n",
       "      <th>NFLX.Return%</th>\n",
       "      <th>AMZN.Return%</th>\n",
       "      <th>NVDA.Return%</th>\n",
       "      <th>ADBE.Return%</th>\n",
       "      <th>AAPL.Return%</th>\n",
       "    </tr>\n",
       "  </thead>\n",
       "  <tbody>\n",
       "    <tr>\n",
       "      <th>NFLX.Return%</th>\n",
       "      <td>0.289152</td>\n",
       "      <td>0.059035</td>\n",
       "      <td>0.050157</td>\n",
       "      <td>0.034586</td>\n",
       "      <td>0.023434</td>\n",
       "    </tr>\n",
       "    <tr>\n",
       "      <th>AMZN.Return%</th>\n",
       "      <td>0.059035</td>\n",
       "      <td>0.095802</td>\n",
       "      <td>0.039253</td>\n",
       "      <td>0.034484</td>\n",
       "      <td>0.026997</td>\n",
       "    </tr>\n",
       "    <tr>\n",
       "      <th>NVDA.Return%</th>\n",
       "      <td>0.050157</td>\n",
       "      <td>0.039253</td>\n",
       "      <td>0.154508</td>\n",
       "      <td>0.043860</td>\n",
       "      <td>0.034516</td>\n",
       "    </tr>\n",
       "    <tr>\n",
       "      <th>ADBE.Return%</th>\n",
       "      <td>0.034586</td>\n",
       "      <td>0.034484</td>\n",
       "      <td>0.043860</td>\n",
       "      <td>0.075530</td>\n",
       "      <td>0.023970</td>\n",
       "    </tr>\n",
       "    <tr>\n",
       "      <th>AAPL.Return%</th>\n",
       "      <td>0.023434</td>\n",
       "      <td>0.026997</td>\n",
       "      <td>0.034516</td>\n",
       "      <td>0.023970</td>\n",
       "      <td>0.063703</td>\n",
       "    </tr>\n",
       "  </tbody>\n",
       "</table>\n",
       "</div>"
      ],
      "text/plain": [
       "              NFLX.Return%  AMZN.Return%  NVDA.Return%  ADBE.Return%  \\\n",
       "NFLX.Return%      0.289152      0.059035      0.050157      0.034586   \n",
       "AMZN.Return%      0.059035      0.095802      0.039253      0.034484   \n",
       "NVDA.Return%      0.050157      0.039253      0.154508      0.043860   \n",
       "ADBE.Return%      0.034586      0.034484      0.043860      0.075530   \n",
       "AAPL.Return%      0.023434      0.026997      0.034516      0.023970   \n",
       "\n",
       "              AAPL.Return%  \n",
       "NFLX.Return%      0.023434  \n",
       "AMZN.Return%      0.026997  \n",
       "NVDA.Return%      0.034516  \n",
       "ADBE.Return%      0.023970  \n",
       "AAPL.Return%      0.063703  "
      ]
     },
     "execution_count": 36,
     "metadata": {},
     "output_type": "execute_result"
    }
   ],
   "source": [
    "# Annualized Covariance\n",
    "\n",
    "252*df_daychg.cov()"
   ]
  },
  {
   "cell_type": "code",
   "execution_count": 37,
   "metadata": {},
   "outputs": [
    {
     "data": {
      "text/html": [
       "<div>\n",
       "<style>\n",
       "    .dataframe thead tr:only-child th {\n",
       "        text-align: right;\n",
       "    }\n",
       "\n",
       "    .dataframe thead th {\n",
       "        text-align: left;\n",
       "    }\n",
       "\n",
       "    .dataframe tbody tr th {\n",
       "        vertical-align: top;\n",
       "    }\n",
       "</style>\n",
       "<table border=\"1\" class=\"dataframe\">\n",
       "  <thead>\n",
       "    <tr style=\"text-align: right;\">\n",
       "      <th></th>\n",
       "      <th>NFLX.Log-return%</th>\n",
       "      <th>AMZN.Log-return%</th>\n",
       "      <th>NVDA.Log-return%</th>\n",
       "      <th>ADBE.Log-return%</th>\n",
       "      <th>AAPL.Log-return%</th>\n",
       "    </tr>\n",
       "    <tr>\n",
       "      <th>date</th>\n",
       "      <th></th>\n",
       "      <th></th>\n",
       "      <th></th>\n",
       "      <th></th>\n",
       "      <th></th>\n",
       "    </tr>\n",
       "  </thead>\n",
       "  <tbody>\n",
       "    <tr>\n",
       "      <th>2018-07-16</th>\n",
       "      <td>0.011755</td>\n",
       "      <td>0.005204</td>\n",
       "      <td>-0.004502</td>\n",
       "      <td>-0.015236</td>\n",
       "      <td>-0.002198</td>\n",
       "    </tr>\n",
       "    <tr>\n",
       "      <th>2018-07-17</th>\n",
       "      <td>-0.053862</td>\n",
       "      <td>0.011695</td>\n",
       "      <td>0.021878</td>\n",
       "      <td>0.014153</td>\n",
       "      <td>0.002825</td>\n",
       "    </tr>\n",
       "    <tr>\n",
       "      <th>2018-07-18</th>\n",
       "      <td>-0.011529</td>\n",
       "      <td>-0.000548</td>\n",
       "      <td>-0.007875</td>\n",
       "      <td>0.005675</td>\n",
       "      <td>-0.005500</td>\n",
       "    </tr>\n",
       "    <tr>\n",
       "      <th>2018-07-19</th>\n",
       "      <td>-0.029487</td>\n",
       "      <td>-0.016385</td>\n",
       "      <td>0.001310</td>\n",
       "      <td>-0.008117</td>\n",
       "      <td>0.007743</td>\n",
       "    </tr>\n",
       "    <tr>\n",
       "      <th>2018-07-20</th>\n",
       "      <td>-0.008769</td>\n",
       "      <td>0.000403</td>\n",
       "      <td>-0.004534</td>\n",
       "      <td>-0.000543</td>\n",
       "      <td>-0.002296</td>\n",
       "    </tr>\n",
       "  </tbody>\n",
       "</table>\n",
       "</div>"
      ],
      "text/plain": [
       "            NFLX.Log-return%  AMZN.Log-return%  NVDA.Log-return%  \\\n",
       "date                                                               \n",
       "2018-07-16          0.011755          0.005204         -0.004502   \n",
       "2018-07-17         -0.053862          0.011695          0.021878   \n",
       "2018-07-18         -0.011529         -0.000548         -0.007875   \n",
       "2018-07-19         -0.029487         -0.016385          0.001310   \n",
       "2018-07-20         -0.008769          0.000403         -0.004534   \n",
       "\n",
       "            ADBE.Log-return%  AAPL.Log-return%  \n",
       "date                                            \n",
       "2018-07-16         -0.015236         -0.002198  \n",
       "2018-07-17          0.014153          0.002825  \n",
       "2018-07-18          0.005675         -0.005500  \n",
       "2018-07-19         -0.008117          0.007743  \n",
       "2018-07-20         -0.000543         -0.002296  "
      ]
     },
     "execution_count": 37,
     "metadata": {},
     "output_type": "execute_result"
    }
   ],
   "source": [
    "# Log return dataframe\n",
    "\n",
    "df_logchg = pd.concat((df[str(name+'.Log-return%')] for name,df in zip(symbol_list,chip_list)),axis=1)\n",
    "df_logchg.tail()"
   ]
  },
  {
   "cell_type": "code",
   "execution_count": 38,
   "metadata": {},
   "outputs": [
    {
     "data": {
      "text/html": [
       "<div>\n",
       "<style>\n",
       "    .dataframe thead tr:only-child th {\n",
       "        text-align: right;\n",
       "    }\n",
       "\n",
       "    .dataframe thead th {\n",
       "        text-align: left;\n",
       "    }\n",
       "\n",
       "    .dataframe tbody tr th {\n",
       "        vertical-align: top;\n",
       "    }\n",
       "</style>\n",
       "<table border=\"1\" class=\"dataframe\">\n",
       "  <thead>\n",
       "    <tr style=\"text-align: right;\">\n",
       "      <th></th>\n",
       "      <th>NFLX.Log-return%</th>\n",
       "      <th>AMZN.Log-return%</th>\n",
       "      <th>NVDA.Log-return%</th>\n",
       "      <th>ADBE.Log-return%</th>\n",
       "      <th>AAPL.Log-return%</th>\n",
       "    </tr>\n",
       "  </thead>\n",
       "  <tbody>\n",
       "    <tr>\n",
       "      <th>NFLX.Log-return%</th>\n",
       "      <td>0.286140</td>\n",
       "      <td>0.059094</td>\n",
       "      <td>0.051000</td>\n",
       "      <td>0.034799</td>\n",
       "      <td>0.024786</td>\n",
       "    </tr>\n",
       "    <tr>\n",
       "      <th>AMZN.Log-return%</th>\n",
       "      <td>0.059094</td>\n",
       "      <td>0.095017</td>\n",
       "      <td>0.039587</td>\n",
       "      <td>0.034662</td>\n",
       "      <td>0.026953</td>\n",
       "    </tr>\n",
       "    <tr>\n",
       "      <th>NVDA.Log-return%</th>\n",
       "      <td>0.051000</td>\n",
       "      <td>0.039587</td>\n",
       "      <td>0.150198</td>\n",
       "      <td>0.044110</td>\n",
       "      <td>0.034577</td>\n",
       "    </tr>\n",
       "    <tr>\n",
       "      <th>ADBE.Log-return%</th>\n",
       "      <td>0.034799</td>\n",
       "      <td>0.034662</td>\n",
       "      <td>0.044110</td>\n",
       "      <td>0.075833</td>\n",
       "      <td>0.024058</td>\n",
       "    </tr>\n",
       "    <tr>\n",
       "      <th>AAPL.Log-return%</th>\n",
       "      <td>0.024786</td>\n",
       "      <td>0.026953</td>\n",
       "      <td>0.034577</td>\n",
       "      <td>0.024058</td>\n",
       "      <td>0.063807</td>\n",
       "    </tr>\n",
       "  </tbody>\n",
       "</table>\n",
       "</div>"
      ],
      "text/plain": [
       "                  NFLX.Log-return%  AMZN.Log-return%  NVDA.Log-return%  \\\n",
       "NFLX.Log-return%          0.286140          0.059094          0.051000   \n",
       "AMZN.Log-return%          0.059094          0.095017          0.039587   \n",
       "NVDA.Log-return%          0.051000          0.039587          0.150198   \n",
       "ADBE.Log-return%          0.034799          0.034662          0.044110   \n",
       "AAPL.Log-return%          0.024786          0.026953          0.034577   \n",
       "\n",
       "                  ADBE.Log-return%  AAPL.Log-return%  \n",
       "NFLX.Log-return%          0.034799          0.024786  \n",
       "AMZN.Log-return%          0.034662          0.026953  \n",
       "NVDA.Log-return%          0.044110          0.034577  \n",
       "ADBE.Log-return%          0.075833          0.024058  \n",
       "AAPL.Log-return%          0.024058          0.063807  "
      ]
     },
     "execution_count": 38,
     "metadata": {},
     "output_type": "execute_result"
    }
   ],
   "source": [
    "# Annualized Covariance for log-return \n",
    "\n",
    "252*df_logchg.cov()"
   ]
  },
  {
   "cell_type": "markdown",
   "metadata": {},
   "source": [
    "# Random weight allocation"
   ]
  },
  {
   "cell_type": "markdown",
   "metadata": {},
   "source": [
    "## Randomization for one single run"
   ]
  },
  {
   "cell_type": "code",
   "execution_count": 39,
   "metadata": {},
   "outputs": [
    {
     "name": "stdout",
     "output_type": "stream",
     "text": [
      "Components:['NFLX', 'AMZN', 'NVDA', 'ADBE', 'AAPL']\n",
      "\n",
      "\n",
      "Weight for NFLX: 0.4017\n",
      "Weight for AMZN: 0.1646\n",
      "Weight for NVDA: 0.0381\n",
      "Weight for ADBE: 0.1450\n",
      "Weight for AAPL: 0.2506\n"
     ]
    }
   ],
   "source": [
    "# Symbols in the portfolio\n",
    "print('Components:'+str(symbol_list))\n",
    "print('\\n')\n",
    "\n",
    "# Random weights & normalized weights to sum of unity\n",
    "rand_weight = np.random.rand(5)\n",
    "rand_weight = rand_weight / np.sum(rand_weight)\n",
    "\n",
    "for name,weight in zip(symbol_list,rand_weight):\n",
    "    print('Weight for %s: %1.4f'%(name,weight))"
   ]
  },
  {
   "cell_type": "code",
   "execution_count": 40,
   "metadata": {},
   "outputs": [
    {
     "name": "stdout",
     "output_type": "stream",
     "text": [
      "Mean Portfolio Return: 0.333909 \n",
      "\n",
      "Portfolio Volatility: 0.283300 \n",
      "\n",
      "Portfolio Sharpe Ratio: 1.178640 \n",
      "\n"
     ]
    }
   ],
   "source": [
    "# Mean-Variance & Sharpe Ratio computation with the random weights\n",
    "# Use bilinear form computation for variance \n",
    "\n",
    "mean_log_weight = 252 * np.sum(df_logchg.mean()*rand_weight)\n",
    "var_log_weight = 252 * np.dot(rand_weight, np.dot(df_logchg.cov(),rand_weight))\n",
    "sd_log_weight = np.sqrt(var_log_weight)\n",
    "\n",
    "annual_sharpe_weight = mean_log_weight/sd_log_weight\n",
    "\n",
    "print('Mean Portfolio Return: %1.6f \\n'%(mean_log_weight))\n",
    "print('Portfolio Volatility: %1.6f \\n'%(sd_log_weight))\n",
    "print('Portfolio Sharpe Ratio: %1.6f \\n'%(annual_sharpe_weight))\n"
   ]
  },
  {
   "cell_type": "markdown",
   "metadata": {},
   "source": [
    "## Randomization for 10,000 runs"
   ]
  },
  {
   "cell_type": "code",
   "execution_count": 41,
   "metadata": {},
   "outputs": [
    {
     "name": "stdout",
     "output_type": "stream",
     "text": [
      "Time elapsed for 10000 simulation: 5.973596096038818\n"
     ]
    }
   ],
   "source": [
    "from time import time\n",
    "start_time = time()\n",
    "\n",
    "num_sims = 10000\n",
    "\n",
    "all_weights = np.zeros((num_sims,len(symbol_list)))\n",
    "mean_log_arr = np.zeros(num_sims)\n",
    "sd_log_arr = np.zeros(num_sims)\n",
    "sharpe_arr = np.zeros(num_sims)\n",
    "\n",
    "for num in range(num_sims):\n",
    "    \n",
    "    # Create, normalize & store random weights\n",
    "    rand_weight = np.random.rand(len(symbol_list))\n",
    "    rand_weight = rand_weight / np.sum(rand_weight)\n",
    "    all_weights[num,:] = rand_weight\n",
    "    \n",
    "    # Mean-Variance & Sharpe Ratio Computation\n",
    "    mean_log_arr[num] = 252 * np.sum(df_logchg.mean()*rand_weight)\n",
    "    sd_log_arr[num] = np.sqrt(252 * np.dot(rand_weight, np.dot(df_logchg.cov(),rand_weight)))\n",
    "    sharpe_arr[num] = mean_log_arr[num] / sd_log_arr[num]\n",
    "\n",
    "end_time = time()\n",
    "print('Time elapsed for %s simulation: %s'%(num_sims,end_time-start_time))"
   ]
  },
  {
   "cell_type": "code",
   "execution_count": 42,
   "metadata": {},
   "outputs": [
    {
     "name": "stdout",
     "output_type": "stream",
     "text": [
      "Max Sharpe Ratio: 1.3074 \n",
      "\n",
      "Min Sharpe Ratio: 0.9402 \n",
      "\n",
      "Index for Max Sharpe Ratio: 6785\n",
      "\n",
      "Weight for Max Sharpe Ratio: [ 0.13500184  0.27041355  0.12223557  0.14266293  0.32968611] \n",
      "\n"
     ]
    }
   ],
   "source": [
    "# Simulation results\n",
    "\n",
    "max_index = sharpe_arr.argmax()\n",
    "print('Max Sharpe Ratio: %1.4f \\n'%(sharpe_arr.max()))\n",
    "print('Min Sharpe Ratio: %1.4f \\n'%(sharpe_arr.min()))\n",
    "print('Index for Max Sharpe Ratio: %s\\n'%(max_index))\n",
    "print('Weight for Max Sharpe Ratio: %s \\n'%(str(all_weights[max_index,:])))"
   ]
  },
  {
   "cell_type": "markdown",
   "metadata": {},
   "source": [
    "## Scatter plot & Efficient Frontier by Simulation"
   ]
  },
  {
   "cell_type": "code",
   "execution_count": 43,
   "metadata": {},
   "outputs": [
    {
     "data": {
      "image/png": "[encoded data removed]",
      "text/plain": [
       "<matplotlib.figure.Figure at 0x143519dfd30>"
      ]
     },
     "metadata": {},
     "output_type": "display_data"
    }
   ],
   "source": [
    "maxSR_sd = sd_log_arr[max_index]\n",
    "maxSR_mean = mean_log_arr[max_index]\n",
    "\n",
    "plt.figure(figsize=(8,6))\n",
    "fig = plt.scatter(sd_log_arr,mean_log_arr,c=sharpe_arr,cmap='plasma')\n",
    "plt.colorbar(label='Sharpe Ratio')\n",
    "plt.xlabel('Portfolio Volatility')\n",
    "plt.ylabel('Portfolio Return')\n",
    "\n",
    "# Add red dot for max Sharpe Ratio\n",
    "pt = plt.scatter(maxSR_sd,maxSR_mean,c='red',s=50,edgecolors='black')\n",
    "\n",
    "plt.ylim(ymin=0)\n",
    "plt.xlim(xmin=0)\n",
    "plt.show(fig,pt)"
   ]
  },
  {
   "cell_type": "markdown",
   "metadata": {},
   "source": [
    "# Markowitz Optimization"
   ]
  },
  {
   "cell_type": "code",
   "execution_count": 44,
   "metadata": {},
   "outputs": [
    {
     "name": "stdout",
     "output_type": "stream",
     "text": [
      "Time elapsed for optimization: 0.0226\n"
     ]
    }
   ],
   "source": [
    "# Use minimize function from scipy\n",
    "\n",
    "from scipy.optimize import minimize\n",
    "\n",
    "def check_unity(weights):\n",
    "    \"\"\"\n",
    "    return 0 if sum of weights equals 1\n",
    "    \"\"\"\n",
    "    return np.sum(weights)-1\n",
    "\n",
    "def get_performKPI(weights):\n",
    "    \"\"\"\n",
    "    Return array of mean return, portfolio volatility & Sharpe ratio given a weight\n",
    "    \"\"\"\n",
    "    weights = np.array(weights)\n",
    "    \n",
    "    mean_log = 252 * np.dot(df_logchg.mean(),weights)\n",
    "    sd_log = np.sqrt(252 * np.dot(weights, np.dot(df_logchg.cov(),weights)))\n",
    "    sharpe = mean_log / sd_log\n",
    "    \n",
    "    return np.array([mean_log,sd_log,sharpe])\n",
    "\n",
    "\n",
    "def get_neg_sharpe(weights):\n",
    "    \"\"\"\n",
    "    Return the negative Sharpe ratio for given weight\n",
    "    \"\"\"\n",
    "    return -get_performKPI(weights)[2]\n",
    "\n",
    "# Initial guess set at uniform allocation\n",
    "init_guess = [1/len(symbol_list)] * len(symbol_list)\n",
    "\n",
    "# Bounds of elements of weight vector (each must be in [0,1])\n",
    "bounds = tuple((0,1) for num in range(len(symbol_list)))\n",
    "\n",
    "# Constraint Vector: dictionary object\n",
    "constr = {'type':'eq','fun':check_unity}\n",
    "\n",
    "# Store optimization result\n",
    "start_opt = time()\n",
    "opt_results = minimize(get_neg_sharpe,init_guess,method='SLSQP',bounds=bounds,constraints=constr)\n",
    "end_opt = time()\n",
    "print('Time elapsed for optimization: %1.4f'%(end_opt-start_opt))\n"
   ]
  },
  {
   "cell_type": "code",
   "execution_count": 45,
   "metadata": {},
   "outputs": [
    {
     "data": {
      "text/plain": [
       "     fun: -1.308079694529183\n",
       "     jac: array([ 0.00071193,  0.00021696,  0.00021209, -0.00032559, -0.00042766])\n",
       " message: 'Optimization terminated successfully.'\n",
       "    nfev: 37\n",
       "     nit: 5\n",
       "    njev: 5\n",
       "  status: 0\n",
       " success: True\n",
       "       x: array([ 0.147895  ,  0.25911084,  0.11971033,  0.15207794,  0.32120589])"
      ]
     },
     "execution_count": 45,
     "metadata": {},
     "output_type": "execute_result"
    }
   ],
   "source": [
    "opt_results"
   ]
  },
  {
   "cell_type": "code",
   "execution_count": 46,
   "metadata": {},
   "outputs": [
    {
     "name": "stdout",
     "output_type": "stream",
     "text": [
      "Markowitz Weight for NFLX: 0.1479\n",
      "Markowitz Weight for AMZN: 0.2591\n",
      "Markowitz Weight for NVDA: 0.1197\n",
      "Markowitz Weight for ADBE: 0.1521\n",
      "Markowitz Weight for AAPL: 0.3212\n"
     ]
    }
   ],
   "source": [
    "opt_weight = opt_results.x\n",
    "\n",
    "for name,ratio in zip(symbol_list,list(opt_weight)):\n",
    "    print('Markowitz Weight for %s: %1.4f'%(name,ratio))"
   ]
  },
  {
   "cell_type": "code",
   "execution_count": 47,
   "metadata": {},
   "outputs": [
    {
     "name": "stdout",
     "output_type": "stream",
     "text": [
      "Annualized Return for Optimal Portfolio: 0.2915\n",
      "\n",
      "Annualized Volatility for Optimal Portfolio: 0.2229\n",
      "\n",
      "Annualized Sharpe Ratio for Optimal Portfolio: 1.3081\n",
      "\n"
     ]
    }
   ],
   "source": [
    "print('Annualized Return for Optimal Portfolio: %1.4f\\n'%(get_performKPI(opt_weight)[0]))\n",
    "print('Annualized Volatility for Optimal Portfolio: %1.4f\\n'%(get_performKPI(opt_weight)[1]))\n",
    "print('Annualized Sharpe Ratio for Optimal Portfolio: %1.4f\\n'%(get_performKPI(opt_weight)[2]))"
   ]
  },
  {
   "cell_type": "code",
   "execution_count": 48,
   "metadata": {},
   "outputs": [
    {
     "data": {
      "image/png": "[encoded data removed]",
      "text/plain": [
       "<matplotlib.figure.Figure at 0x1434fa87080>"
      ]
     },
     "metadata": {},
     "output_type": "display_data"
    }
   ],
   "source": [
    "maxSR_sd = sd_log_arr[max_index]\n",
    "maxSR_mean = mean_log_arr[max_index]\n",
    "\n",
    "plt.figure(figsize=(8,6))\n",
    "fig = plt.scatter(sd_log_arr,mean_log_arr,c=sharpe_arr,cmap='plasma')\n",
    "plt.colorbar(label='Sharpe Ratio')\n",
    "plt.xlabel('Portfolio Volatility')\n",
    "plt.ylabel('Portfolio Return')\n",
    "\n",
    "# Add red dot for max Sharpe Ratio\n",
    "pt_1 = plt.scatter(maxSR_sd,maxSR_mean,c='red',s=50,edgecolors='black')\n",
    "pt_2 = plt.scatter(get_performKPI(opt_weight)[1],get_performKPI(opt_weight)[0],c='green',s=50,edgecolors='black')\n",
    "plt.show(pt_1,pt_2)"
   ]
  },
  {
   "cell_type": "markdown",
   "metadata": {},
   "source": [
    "# Efficient Frontier by Optimization"
   ]
  },
  {
   "cell_type": "code",
   "execution_count": 49,
   "metadata": {},
   "outputs": [
    {
     "name": "stdout",
     "output_type": "stream",
     "text": [
      "Time elapsed for Efficient Frontier:7.4993\n"
     ]
    }
   ],
   "source": [
    "# Objective function: portfolio volatility given fixed level of return\n",
    "def get_vol(weights):\n",
    "    return get_performKPI(weights)[1]\n",
    "\n",
    "# Input Vector: annualized return from 0.25 to 0.45\n",
    "return_vect = np.linspace(0.25,0.45,200)\n",
    "\n",
    "# Record the minimal volatility for each \n",
    "frontier_vol = []\n",
    "\n",
    "start_front = time()\n",
    "for return_value in return_vect:\n",
    "    # Set up two constraints for opt: weight unity & fixed return\n",
    "    constr = ({'type':'eq','fun':check_unity},\n",
    "              {'type':'eq','fun':lambda w: get_performKPI(w)[0] - return_value})\n",
    "    \n",
    "    # Store the result of minimising volatility\n",
    "    min_vol_result = minimize(get_vol,init_guess,method='SLSQP',bounds=bounds,constraints=constr)\n",
    "    frontier_vol.append(min_vol_result['fun'])\n",
    "\n",
    "end_front = time()\n",
    "print('Time elapsed for Efficient Frontier:%1.4f'%(end_front - start_front))\n"
   ]
  },
  {
   "cell_type": "code",
   "execution_count": 50,
   "metadata": {},
   "outputs": [
    {
     "data": {
      "text/plain": [
       "[<matplotlib.lines.Line2D at 0x14351beb0b8>]"
      ]
     },
     "execution_count": 50,
     "metadata": {},
     "output_type": "execute_result"
    },
    {
     "data": {
      "image/png": "[encoded data removed]",
      "text/plain": [
       "<matplotlib.figure.Figure at 0x1434fb3a8d0>"
      ]
     },
     "metadata": {},
     "output_type": "display_data"
    }
   ],
   "source": [
    "plt.figure(figsize=(8,6))\n",
    "plt.scatter(sd_log_arr,mean_log_arr,c=sharpe_arr,cmap='plasma')\n",
    "plt.colorbar(label='Sharpe Ratio')\n",
    "plt.xlabel('Portfolio Volatility')\n",
    "plt.ylabel('Portfolio Return')\n",
    "plt.ylim(ymin=0)\n",
    "plt.xlim(xmin=0)\n",
    "\n",
    "# Add frontier line\n",
    "plt.plot(frontier_vol,return_vect,'g--',linewidth=2)\n",
    "plt.scatter(get_performKPI(opt_weight)[1],get_performKPI(opt_weight)[0],c='green',s=50,edgecolors='black')\n",
    "\n",
    "# Add indifferent line\n",
    "xline = np.linspace(0,0.5,500)\n",
    "yline = get_performKPI(opt_weight)[2] * xline\n",
    "plt.plot(xline,yline,'b-',linewidth=2)"
   ]
  },
  {
   "cell_type": "code",
   "execution_count": null,
   "metadata": {},
   "outputs": [],
   "source": []
  },
  {
   "cell_type": "code",
   "execution_count": null,
   "metadata": {},
   "outputs": [],
   "source": []
  }
 ],
 "metadata": {
  "kernelspec": {
   "display_name": "Python 3",
   "language": "python",
   "name": "python3"
  },
  "language_info": {
   "codemirror_mode": {
    "name": "ipython",
    "version": 3
   },
   "file_extension": ".py",
   "mimetype": "text/x-python",
   "name": "python",
   "nbconvert_exporter": "python",
   "pygments_lexer": "ipython3",
   "version": "3.6.3"
  }
 },
 "nbformat": 4,
 "nbformat_minor": 2
}
